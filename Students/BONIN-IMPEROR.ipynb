{
 "cells": [
  {
   "cell_type": "markdown",
   "metadata": {
    "_cell_guid": "5cd5061f-ae30-4837-a53b-690ffd5c5830",
    "_uuid": "9d82bf13584b8e682962fbb96131f2447d741679"
   },
   "source": [
    "# Mettre en place notre environnement\n",
    "________\n",
    "\n",
    "La première chose que nous devons faire est de charger les bibliothèques et les ensembles de données que nous allons utiliser. Pour aujourd'hui, nous allons travailler avec deux ensembles de données : un contenant des chroniques de température dans le lit de la rivière (zone hyporhéique), et un autre contenant des les chroniques de différence de charge enregistré en **Volt**.\n",
    "\n",
    "**Important!** Assurez-vous d'exécuter cette cellule vous-même ou le reste de votre code ne fonctionnera pas"
   ]
  },
  {
   "cell_type": "code",
   "execution_count": 1,
   "metadata": {},
   "outputs": [],
   "source": [
    "import pathlib\n",
    "pathlib.Path('BONIN-IMPEROR.ipynb').parent.resolve()"
   ]
  },
  {
   "cell_type": "code",
   "execution_count": 2,
   "metadata": {
    "_cell_guid": "135a7804-b5f5-40aa-8657-4a15774e3666",
    "_uuid": "835cbe0834b935fb0fd40c75b9c39454836f4d5f",
    "jupyter": {
     "outputs_hidden": true
    }
   },
   "outputs": [],
   "source": [
    "# modules\n",
    "import pandas as pd\n",
    "import numpy as np\n",
    "import matplotlib.pyplot as plt\n",
    "import seaborn as sns\n",
    "import datetime\n",
    "\n",
    "\n",
    "# read in our data\n",
    "capteur_riviere = pd.read_csv(\"C:/Users/33681/Documents/2A/MOLONARI/MOLONARI_1D_RESOURCES/sampling_points/Point034/point034_P_measures.csv\")\n",
    "capteur_ZH = pd.read_csv(\"C:/Users/33681/Documents/2A/MOLONARI/MOLONARI_1D_RESOURCES/sampling_points/Point034/point034_T_measures.csv\")\n",
    "etalonage_capteur_riv = pd.read_csv(\"C:/Users/33681/Documents/2A/MOLONARI/MOLONARI_1D_RESOURCES/configuration/pressure_sensors/P508.csv\")\n",
    "\n",
    "# set seed for reproducibility\n",
    "np.random.seed(0)"
   ]
  },
  {
   "cell_type": "markdown",
   "metadata": {
    "_cell_guid": "604ac3a4-b1d9-4264-b312-4bbeecdeec00",
    "_uuid": "03ce3b4afe87d98f777172c2c7be066a66a0b237"
   },
   "source": [
    "Nous sommes maintenant prêts à examiner quelques dates ! (Si vous le souhaitez, vous pouvez profiter de cette occasion pour jeter un coup d'œil à certaines des données)."
   ]
  },
  {
   "cell_type": "markdown",
   "metadata": {},
   "source": [
    "# Imprimez le noms des colonnes\n",
    "renommer les colonnes du fichier capteur_riviere :  \tdates,tension_V,temperature_stream_C et celles du fichier capteur_ZH  :\n",
    "#,dates,temperature_depth_1_C,temperature_depth_2_C,temperature_depth_3_C,temperature_depth_4_C\n",
    "\n"
   ]
  },
  {
   "cell_type": "code",
   "execution_count": 3,
   "metadata": {},
   "outputs": [],
   "source": [
    "#capteur_riviere.columns\n",
    "#capteur_riviere.head()\n",
    "capteur_riviere.columns=['Titre de tracé : point_montberneux', 'dates', 'tension_V','temperature_stream_C', 'Unnamed: 4', 'Unnamed: 5', 'Unnamed: 6']\n",
    "capteur_riviere=capteur_riviere.drop(columns=['Unnamed: 4','Unnamed: 5','Unnamed: 6'])"
   ]
  },
  {
   "cell_type": "code",
   "execution_count": 4,
   "metadata": {},
   "outputs": [
    {
     "data": {
      "text/html": [
       "<div>\n",
       "<style scoped>\n",
       "    .dataframe tbody tr th:only-of-type {\n",
       "        vertical-align: middle;\n",
       "    }\n",
       "\n",
       "    .dataframe tbody tr th {\n",
       "        vertical-align: top;\n",
       "    }\n",
       "\n",
       "    .dataframe thead th {\n",
       "        text-align: right;\n",
       "    }\n",
       "</style>\n",
       "<table border=\"1\" class=\"dataframe\">\n",
       "  <thead>\n",
       "    <tr style=\"text-align: right;\">\n",
       "      <th></th>\n",
       "      <th>Titre de tracé : point_montberneux</th>\n",
       "      <th>dates</th>\n",
       "      <th>tension_V</th>\n",
       "      <th>temperature_stream_C</th>\n",
       "    </tr>\n",
       "  </thead>\n",
       "  <tbody>\n",
       "    <tr>\n",
       "      <th>0</th>\n",
       "      <td>#</td>\n",
       "      <td>Date Heure, GMT+01:00</td>\n",
       "      <td>Tension, V (LGR S/N: 10831978, SEN S/N: 108319...</td>\n",
       "      <td>Temp., °C (LGR S/N: 10831978, SEN S/N: 1083197...</td>\n",
       "    </tr>\n",
       "    <tr>\n",
       "      <th>1</th>\n",
       "      <td>1</td>\n",
       "      <td>06/27/16 12:00:00 PM</td>\n",
       "      <td>1.26787</td>\n",
       "      <td>18.342</td>\n",
       "    </tr>\n",
       "    <tr>\n",
       "      <th>2</th>\n",
       "      <td>2</td>\n",
       "      <td>06/27/16 12:15:00 PM</td>\n",
       "      <td>1.0663</td>\n",
       "      <td>13.898</td>\n",
       "    </tr>\n",
       "    <tr>\n",
       "      <th>3</th>\n",
       "      <td>3</td>\n",
       "      <td>06/27/16 12:30:00 PM</td>\n",
       "      <td>1.20661</td>\n",
       "      <td>13.915</td>\n",
       "    </tr>\n",
       "    <tr>\n",
       "      <th>4</th>\n",
       "      <td>4</td>\n",
       "      <td>06/27/16 12:45:00 PM</td>\n",
       "      <td>1.24533</td>\n",
       "      <td>13.939</td>\n",
       "    </tr>\n",
       "  </tbody>\n",
       "</table>\n",
       "</div>"
      ],
      "text/plain": [
       "  Titre de tracé : point_montberneux                  dates  \\\n",
       "0                                  #  Date Heure, GMT+01:00   \n",
       "1                                  1   06/27/16 12:00:00 PM   \n",
       "2                                  2   06/27/16 12:15:00 PM   \n",
       "3                                  3   06/27/16 12:30:00 PM   \n",
       "4                                  4   06/27/16 12:45:00 PM   \n",
       "\n",
       "                                           tension_V  \\\n",
       "0  Tension, V (LGR S/N: 10831978, SEN S/N: 108319...   \n",
       "1                                            1.26787   \n",
       "2                                             1.0663   \n",
       "3                                            1.20661   \n",
       "4                                            1.24533   \n",
       "\n",
       "                                temperature_stream_C  \n",
       "0  Temp., °C (LGR S/N: 10831978, SEN S/N: 1083197...  \n",
       "1                                             18.342  \n",
       "2                                             13.898  \n",
       "3                                             13.915  \n",
       "4                                             13.939  "
      ]
     },
     "execution_count": 4,
     "metadata": {},
     "output_type": "execute_result"
    }
   ],
   "source": [
    "capteur_riviere.head()"
   ]
  },
  {
   "cell_type": "code",
   "execution_count": 5,
   "metadata": {},
   "outputs": [
    {
     "data": {
      "text/html": [
       "<div>\n",
       "<style scoped>\n",
       "    .dataframe tbody tr th:only-of-type {\n",
       "        vertical-align: middle;\n",
       "    }\n",
       "\n",
       "    .dataframe tbody tr th {\n",
       "        vertical-align: top;\n",
       "    }\n",
       "\n",
       "    .dataframe thead th {\n",
       "        text-align: right;\n",
       "    }\n",
       "</style>\n",
       "<table border=\"1\" class=\"dataframe\">\n",
       "  <thead>\n",
       "    <tr style=\"text-align: right;\">\n",
       "      <th></th>\n",
       "      <th>#</th>\n",
       "      <th>Date Heure, GMT+01:00</th>\n",
       "      <th>Temp., °C (LGR S/N: 10117166, SEN S/N: 10117166, LBL: Température)</th>\n",
       "      <th>Temp., °C (LGR S/N: 10117166, SEN S/N: 10117166, LBL: Température).1</th>\n",
       "      <th>Temp., °C (LGR S/N: 10117166, SEN S/N: 10117166, LBL: Température).2</th>\n",
       "      <th>Temp., °C (LGR S/N: 10117166, SEN S/N: 10117166, LBL: Température).3</th>\n",
       "      <th>Hôte connecté (LGR S/N: 10117166)</th>\n",
       "      <th>Arrêté (LGR S/N: 10117166)</th>\n",
       "      <th>Fin de fichier (LGR S/N: 10117166)</th>\n",
       "    </tr>\n",
       "  </thead>\n",
       "  <tbody>\n",
       "    <tr>\n",
       "      <th>0</th>\n",
       "      <td>1</td>\n",
       "      <td>06/27/16 12:00:00 PM</td>\n",
       "      <td>13.810</td>\n",
       "      <td>13.834</td>\n",
       "      <td>13.858</td>\n",
       "      <td>13.810</td>\n",
       "      <td>NaN</td>\n",
       "      <td>NaN</td>\n",
       "      <td>NaN</td>\n",
       "    </tr>\n",
       "    <tr>\n",
       "      <th>1</th>\n",
       "      <td>2</td>\n",
       "      <td>06/27/16 12:15:00 PM</td>\n",
       "      <td>13.834</td>\n",
       "      <td>13.858</td>\n",
       "      <td>13.882</td>\n",
       "      <td>13.834</td>\n",
       "      <td>NaN</td>\n",
       "      <td>NaN</td>\n",
       "      <td>NaN</td>\n",
       "    </tr>\n",
       "    <tr>\n",
       "      <th>2</th>\n",
       "      <td>3</td>\n",
       "      <td>06/27/16 12:30:00 PM</td>\n",
       "      <td>13.930</td>\n",
       "      <td>13.954</td>\n",
       "      <td>14.050</td>\n",
       "      <td>14.002</td>\n",
       "      <td>NaN</td>\n",
       "      <td>NaN</td>\n",
       "      <td>NaN</td>\n",
       "    </tr>\n",
       "    <tr>\n",
       "      <th>3</th>\n",
       "      <td>4</td>\n",
       "      <td>06/27/16 12:45:00 PM</td>\n",
       "      <td>13.882</td>\n",
       "      <td>13.954</td>\n",
       "      <td>14.026</td>\n",
       "      <td>13.954</td>\n",
       "      <td>NaN</td>\n",
       "      <td>NaN</td>\n",
       "      <td>NaN</td>\n",
       "    </tr>\n",
       "    <tr>\n",
       "      <th>4</th>\n",
       "      <td>5</td>\n",
       "      <td>06/27/16 01:00:00 PM</td>\n",
       "      <td>13.858</td>\n",
       "      <td>13.930</td>\n",
       "      <td>14.026</td>\n",
       "      <td>13.954</td>\n",
       "      <td>NaN</td>\n",
       "      <td>NaN</td>\n",
       "      <td>NaN</td>\n",
       "    </tr>\n",
       "  </tbody>\n",
       "</table>\n",
       "</div>"
      ],
      "text/plain": [
       "   # Date Heure, GMT+01:00  \\\n",
       "0  1  06/27/16 12:00:00 PM   \n",
       "1  2  06/27/16 12:15:00 PM   \n",
       "2  3  06/27/16 12:30:00 PM   \n",
       "3  4  06/27/16 12:45:00 PM   \n",
       "4  5  06/27/16 01:00:00 PM   \n",
       "\n",
       "   Temp., °C (LGR S/N: 10117166, SEN S/N: 10117166, LBL: Température)  \\\n",
       "0                                             13.810                    \n",
       "1                                             13.834                    \n",
       "2                                             13.930                    \n",
       "3                                             13.882                    \n",
       "4                                             13.858                    \n",
       "\n",
       "   Temp., °C (LGR S/N: 10117166, SEN S/N: 10117166, LBL: Température).1  \\\n",
       "0                                             13.834                      \n",
       "1                                             13.858                      \n",
       "2                                             13.954                      \n",
       "3                                             13.954                      \n",
       "4                                             13.930                      \n",
       "\n",
       "   Temp., °C (LGR S/N: 10117166, SEN S/N: 10117166, LBL: Température).2  \\\n",
       "0                                             13.858                      \n",
       "1                                             13.882                      \n",
       "2                                             14.050                      \n",
       "3                                             14.026                      \n",
       "4                                             14.026                      \n",
       "\n",
       "   Temp., °C (LGR S/N: 10117166, SEN S/N: 10117166, LBL: Température).3  \\\n",
       "0                                             13.810                      \n",
       "1                                             13.834                      \n",
       "2                                             14.002                      \n",
       "3                                             13.954                      \n",
       "4                                             13.954                      \n",
       "\n",
       "  Hôte connecté (LGR S/N: 10117166) Arrêté (LGR S/N: 10117166)  \\\n",
       "0                               NaN                        NaN   \n",
       "1                               NaN                        NaN   \n",
       "2                               NaN                        NaN   \n",
       "3                               NaN                        NaN   \n",
       "4                               NaN                        NaN   \n",
       "\n",
       "  Fin de fichier (LGR S/N: 10117166)  \n",
       "0                                NaN  \n",
       "1                                NaN  \n",
       "2                                NaN  \n",
       "3                                NaN  \n",
       "4                                NaN  "
      ]
     },
     "execution_count": 5,
     "metadata": {},
     "output_type": "execute_result"
    }
   ],
   "source": [
    "capteur_ZH.head()"
   ]
  },
  {
   "cell_type": "code",
   "execution_count": 6,
   "metadata": {},
   "outputs": [],
   "source": [
    "#capteur_ZH.columns\n",
    "capteur_ZH.columns=['#','dates','temperature_depth_1_C','temperature_depth_2_C','temperature_depth_3_C','temperature_depth_4_C','a','b','c']\n",
    "capteur_ZH=capteur_ZH.drop(columns=['a','b','c'])"
   ]
  },
  {
   "cell_type": "code",
   "execution_count": 7,
   "metadata": {},
   "outputs": [
    {
     "data": {
      "text/html": [
       "<div>\n",
       "<style scoped>\n",
       "    .dataframe tbody tr th:only-of-type {\n",
       "        vertical-align: middle;\n",
       "    }\n",
       "\n",
       "    .dataframe tbody tr th {\n",
       "        vertical-align: top;\n",
       "    }\n",
       "\n",
       "    .dataframe thead th {\n",
       "        text-align: right;\n",
       "    }\n",
       "</style>\n",
       "<table border=\"1\" class=\"dataframe\">\n",
       "  <thead>\n",
       "    <tr style=\"text-align: right;\">\n",
       "      <th></th>\n",
       "      <th>#</th>\n",
       "      <th>dates</th>\n",
       "      <th>temperature_depth_1_C</th>\n",
       "      <th>temperature_depth_2_C</th>\n",
       "      <th>temperature_depth_3_C</th>\n",
       "      <th>temperature_depth_4_C</th>\n",
       "    </tr>\n",
       "  </thead>\n",
       "  <tbody>\n",
       "    <tr>\n",
       "      <th>0</th>\n",
       "      <td>1</td>\n",
       "      <td>06/27/16 12:00:00 PM</td>\n",
       "      <td>13.810</td>\n",
       "      <td>13.834</td>\n",
       "      <td>13.858</td>\n",
       "      <td>13.810</td>\n",
       "    </tr>\n",
       "    <tr>\n",
       "      <th>1</th>\n",
       "      <td>2</td>\n",
       "      <td>06/27/16 12:15:00 PM</td>\n",
       "      <td>13.834</td>\n",
       "      <td>13.858</td>\n",
       "      <td>13.882</td>\n",
       "      <td>13.834</td>\n",
       "    </tr>\n",
       "    <tr>\n",
       "      <th>2</th>\n",
       "      <td>3</td>\n",
       "      <td>06/27/16 12:30:00 PM</td>\n",
       "      <td>13.930</td>\n",
       "      <td>13.954</td>\n",
       "      <td>14.050</td>\n",
       "      <td>14.002</td>\n",
       "    </tr>\n",
       "    <tr>\n",
       "      <th>3</th>\n",
       "      <td>4</td>\n",
       "      <td>06/27/16 12:45:00 PM</td>\n",
       "      <td>13.882</td>\n",
       "      <td>13.954</td>\n",
       "      <td>14.026</td>\n",
       "      <td>13.954</td>\n",
       "    </tr>\n",
       "    <tr>\n",
       "      <th>4</th>\n",
       "      <td>5</td>\n",
       "      <td>06/27/16 01:00:00 PM</td>\n",
       "      <td>13.858</td>\n",
       "      <td>13.930</td>\n",
       "      <td>14.026</td>\n",
       "      <td>13.954</td>\n",
       "    </tr>\n",
       "  </tbody>\n",
       "</table>\n",
       "</div>"
      ],
      "text/plain": [
       "   #                 dates  temperature_depth_1_C  temperature_depth_2_C  \\\n",
       "0  1  06/27/16 12:00:00 PM                 13.810                 13.834   \n",
       "1  2  06/27/16 12:15:00 PM                 13.834                 13.858   \n",
       "2  3  06/27/16 12:30:00 PM                 13.930                 13.954   \n",
       "3  4  06/27/16 12:45:00 PM                 13.882                 13.954   \n",
       "4  5  06/27/16 01:00:00 PM                 13.858                 13.930   \n",
       "\n",
       "   temperature_depth_3_C  temperature_depth_4_C  \n",
       "0                 13.858                 13.810  \n",
       "1                 13.882                 13.834  \n",
       "2                 14.050                 14.002  \n",
       "3                 14.026                 13.954  \n",
       "4                 14.026                 13.954  "
      ]
     },
     "execution_count": 7,
     "metadata": {},
     "output_type": "execute_result"
    }
   ],
   "source": [
    "capteur_ZH.head()"
   ]
  },
  {
   "cell_type": "markdown",
   "metadata": {},
   "source": [
    "# Transformez les données de différence de charge en mètres\n",
    "\n"
   ]
  },
  {
   "cell_type": "code",
   "execution_count": 8,
   "metadata": {},
   "outputs": [],
   "source": [
    "#il s'agit de convertir les volts de la colonne tension en mètres, on notera subtilement que ces grandeurs n'étant pas homogènes il y a une formule du cours à utiliser\n",
    "\n",
    "#voir le fichier info\n",
    "#on a utilisé le capteur de pression p508, on utilise les coefficients liés à ce capteur\n",
    "#on a donc l'ordonnée à l'origine et les coordonnées des courbes\n",
    "dU_dH=-1.462495\n",
    "dU_dT=0.001474\n",
    "Intercept=1.210344\n",
    "#la colonne température du tableau est déjà une différence de température!"
   ]
  },
  {
   "cell_type": "markdown",
   "metadata": {},
   "source": [
    "$dU=Intercept+ dH\\times\\frac{dU}{dH}+ dT\\times\\frac{dU}{dT}$<br>\n",
    "On inverse la relation : <br>\n",
    "$dH = \\frac{dU - dT\\times\\frac{dU}{dT} -Intercept }{ \\frac{dU}{dH}}$"
   ]
  },
  {
   "cell_type": "code",
   "execution_count": 9,
   "metadata": {},
   "outputs": [],
   "source": [
    "#on va : rajouter une colonne, lui mettre la formule de calcul dedans\n",
    "capteur_riviere=capteur_riviere.assign(charge_m=1)\n",
    "capteur_riviere['tension_V']=pd.to_numeric(capteur_riviere['tension_V'], errors  ='coerce')\n",
    "capteur_riviere['temperature_stream_C']=pd.to_numeric(capteur_riviere['temperature_stream_C'], errors  ='coerce')\n",
    "capteur_riviere['charge_m']=(1/dU_dH)*(capteur_riviere['tension_V']-capteur_riviere['temperature_stream_C']*dU_dT-Intercept)"
   ]
  },
  {
   "cell_type": "code",
   "execution_count": 10,
   "metadata": {},
   "outputs": [
    {
     "data": {
      "text/html": [
       "<div>\n",
       "<style scoped>\n",
       "    .dataframe tbody tr th:only-of-type {\n",
       "        vertical-align: middle;\n",
       "    }\n",
       "\n",
       "    .dataframe tbody tr th {\n",
       "        vertical-align: top;\n",
       "    }\n",
       "\n",
       "    .dataframe thead th {\n",
       "        text-align: right;\n",
       "    }\n",
       "</style>\n",
       "<table border=\"1\" class=\"dataframe\">\n",
       "  <thead>\n",
       "    <tr style=\"text-align: right;\">\n",
       "      <th></th>\n",
       "      <th>Titre de tracé : point_montberneux</th>\n",
       "      <th>dates</th>\n",
       "      <th>tension_V</th>\n",
       "      <th>temperature_stream_C</th>\n",
       "      <th>charge_m</th>\n",
       "    </tr>\n",
       "  </thead>\n",
       "  <tbody>\n",
       "    <tr>\n",
       "      <th>0</th>\n",
       "      <td>#</td>\n",
       "      <td>Date Heure, GMT+01:00</td>\n",
       "      <td>NaN</td>\n",
       "      <td>NaN</td>\n",
       "      <td>NaN</td>\n",
       "    </tr>\n",
       "    <tr>\n",
       "      <th>1</th>\n",
       "      <td>1</td>\n",
       "      <td>06/27/16 12:00:00 PM</td>\n",
       "      <td>1.26787</td>\n",
       "      <td>18.342</td>\n",
       "      <td>-0.020848</td>\n",
       "    </tr>\n",
       "    <tr>\n",
       "      <th>2</th>\n",
       "      <td>2</td>\n",
       "      <td>06/27/16 12:15:00 PM</td>\n",
       "      <td>1.06630</td>\n",
       "      <td>13.898</td>\n",
       "      <td>0.112499</td>\n",
       "    </tr>\n",
       "    <tr>\n",
       "      <th>3</th>\n",
       "      <td>3</td>\n",
       "      <td>06/27/16 12:30:00 PM</td>\n",
       "      <td>1.20661</td>\n",
       "      <td>13.915</td>\n",
       "      <td>0.016578</td>\n",
       "    </tr>\n",
       "    <tr>\n",
       "      <th>4</th>\n",
       "      <td>4</td>\n",
       "      <td>06/27/16 12:45:00 PM</td>\n",
       "      <td>1.24533</td>\n",
       "      <td>13.939</td>\n",
       "      <td>-0.009873</td>\n",
       "    </tr>\n",
       "  </tbody>\n",
       "</table>\n",
       "</div>"
      ],
      "text/plain": [
       "  Titre de tracé : point_montberneux                  dates  tension_V  \\\n",
       "0                                  #  Date Heure, GMT+01:00        NaN   \n",
       "1                                  1   06/27/16 12:00:00 PM    1.26787   \n",
       "2                                  2   06/27/16 12:15:00 PM    1.06630   \n",
       "3                                  3   06/27/16 12:30:00 PM    1.20661   \n",
       "4                                  4   06/27/16 12:45:00 PM    1.24533   \n",
       "\n",
       "   temperature_stream_C  charge_m  \n",
       "0                   NaN       NaN  \n",
       "1                18.342 -0.020848  \n",
       "2                13.898  0.112499  \n",
       "3                13.915  0.016578  \n",
       "4                13.939 -0.009873  "
      ]
     },
     "execution_count": 10,
     "metadata": {},
     "output_type": "execute_result"
    }
   ],
   "source": [
    "capteur_riviere.head()"
   ]
  },
  {
   "cell_type": "markdown",
   "metadata": {
    "_cell_guid": "9b87a77d-e5e5-4581-9cd3-0e7339fe1516",
    "_uuid": "742028572a307a42ce40db0102171bc219b05282"
   },
   "source": [
    "# Traitement des dates\n",
    "## Vérifiez le type de données de notre colonne de date\n",
    "___\n",
    "\n",
    "Imprimer les dates des deux fichiers"
   ]
  },
  {
   "cell_type": "code",
   "execution_count": 11,
   "metadata": {
    "_cell_guid": "e6b7eb39-c3e3-40a1-b0a5-91cfcd2d42da",
    "_uuid": "93a08de7a6a621e4b07968c07c1cc612936c6027",
    "jupyter": {
     "outputs_hidden": true
    }
   },
   "outputs": [
    {
     "data": {
      "text/plain": [
       "0       Date Heure, GMT+01:00\n",
       "1        06/27/16 12:00:00 PM\n",
       "2        06/27/16 12:15:00 PM\n",
       "3        06/27/16 12:30:00 PM\n",
       "4        06/27/16 12:45:00 PM\n",
       "                ...          \n",
       "1456         07/12/2016 15:45\n",
       "1457         07/12/2016 16:00\n",
       "1458         07/12/2016 16:15\n",
       "1459         07/12/2016 16:30\n",
       "1460         07/12/2016 16:45\n",
       "Name: dates, Length: 1461, dtype: object"
      ]
     },
     "execution_count": 11,
     "metadata": {},
     "output_type": "execute_result"
    }
   ],
   "source": [
    "capteur_riviere['dates']"
   ]
  },
  {
   "cell_type": "code",
   "execution_count": 12,
   "metadata": {},
   "outputs": [
    {
     "data": {
      "text/plain": [
       "0       06/27/16 12:00:00 PM\n",
       "1       06/27/16 12:15:00 PM\n",
       "2       06/27/16 12:30:00 PM\n",
       "3       06/27/16 12:45:00 PM\n",
       "4       06/27/16 01:00:00 PM\n",
       "                ...         \n",
       "1433    07/12/16 10:15:00 AM\n",
       "1434    07/12/16 10:30:00 AM\n",
       "1435    07/12/16 10:45:00 AM\n",
       "1436    07/12/16 10:49:31 AM\n",
       "1437    07/12/16 10:49:47 AM\n",
       "Name: dates, Length: 1438, dtype: object"
      ]
     },
     "execution_count": 12,
     "metadata": {},
     "output_type": "execute_result"
    }
   ],
   "source": [
    "capteur_ZH['dates']"
   ]
  },
  {
   "cell_type": "markdown",
   "metadata": {
    "_cell_guid": "dbdacb7c-10d4-4b0a-8f6b-6d4a940ca446",
    "_uuid": "d88dbc08ab145fd20f86073b027c53f40fd306bc"
   },
   "source": [
    "Remarquez qu'en bas de la sortie de `head()`, vous pouvez voir qu'il est dit que le type de données de cette colonne est \"object\". \n",
    "\n",
    "> Pandas utilise le dtype \"object\" pour stocker différents types de données, mais le plus souvent, lorsque vous voyez une colonne avec le dtype \"object\", elle contient des chaînes de caractères. \n",
    "\n",
    "Si vous consultez la documentation sur le dtype de Pandas [ici] (http://pandas.pydata.org/pandas-docs/stable/basics.html#dtypes), vous remarquerez qu'il existe également un dtype spécifique `datetime64`. Comme le dtype de notre colonne est `object` plutôt que `datetime64`, nous pouvons dire que Python ne sait pas que cette colonne contient des dates.\n",
    "\n",
    "Nous pouvons aussi regarder uniquement le dtype de votre colonne sans imprimer les premières lignes si nous le souhaitons :"
   ]
  },
  {
   "cell_type": "code",
   "execution_count": 13,
   "metadata": {
    "_cell_guid": "56a047f4-cbf7-4914-951c-a04310ee7432",
    "_uuid": "e2ab2ac80aaac7b165b3af64edb75d29f2612482",
    "jupyter": {
     "outputs_hidden": true
    }
   },
   "outputs": [],
   "source": [
    "# check the data type of our date column\n"
   ]
  },
  {
   "cell_type": "code",
   "execution_count": 14,
   "metadata": {},
   "outputs": [
    {
     "name": "stdout",
     "output_type": "stream",
     "text": [
      "object object\n"
     ]
    }
   ],
   "source": [
    "print(capteur_ZH.dates.dtype,\n",
    "capteur_riviere.dates.dtype)"
   ]
  },
  {
   "cell_type": "markdown",
   "metadata": {
    "_cell_guid": "99a207db-3db0-4343-9805-58753f51f6e8",
    "_uuid": "06e6483764014a04e7a1f34525e2f12aee5fdab8"
   },
   "source": [
    "You may have to check the [numpy documentation](https://docs.scipy.org/doc/numpy-1.12.0/reference/generated/numpy.dtype.kind.html#numpy.dtype.kind) to match the letter code to the dtype of the object. \"O\" is the code for \"object\", so we can see that these two methods give us the same information."
   ]
  },
  {
   "cell_type": "markdown",
   "metadata": {
    "_cell_guid": "fb3b552b-411b-4fc0-b1e6-a3a8156fd459",
    "_uuid": "0939ce269aef7001e35cc8f2a5f1eed1f6160940"
   },
   "source": [
    "## Convertir nos colonnes de date en datetime\n",
    "___\n",
    "\n",
    "Maintenant que nous savons que notre colonne de date n'est pas reconnue comme une date, il est temps de la convertir pour qu'elle soit reconnue comme une date. Cette opération est appelée \"analyse syntaxique des dates\" car nous prenons une chaîne de caractères et identifions ses composants. Nous allons utiliser la fonction pd.to_datetime.\n",
    "\n",
    "Nous pouvons indiquer à pandas le format de nos dates à l'aide d'un guide appelé [\"strftime directive\", sur lequel vous trouverez plus d'informations à ce lien] (http://strftime.org/). L'idée de base est que vous devez indiquer quelles parties de la date se trouvent où et quelle ponctuation se trouve entre elles. Il existe [de nombreuses parties possibles d'une date](http://strftime.org/), mais les plus courantes sont `%d` pour le jour, `%m` pour le mois, `%y` pour une année à deux chiffres et `%Y` pour une année à quatre chiffres.\n",
    "\n",
    "Quelques exemples :\n",
    "\n",
    " * Le 17 janvier 2007 a le format \"%m/%d/%y\".\n",
    " * 17-1-2007 a le format \"%d-%m-%Y\".\n",
    " "
   ]
  },
  {
   "cell_type": "code",
   "execution_count": 15,
   "metadata": {
    "_cell_guid": "f955aa17-ede7-4457-a913-ba1c44f8846d",
    "_uuid": "a471aae50241b245caa0c60fbb19821372682b76",
    "jupyter": {
     "outputs_hidden": true
    }
   },
   "outputs": [],
   "source": [
    "capteur_riviere['dates'] = pd.to_datetime(capteur_riviere['dates'], infer_datetime_format=True, errors='coerce')"
   ]
  },
  {
   "cell_type": "markdown",
   "metadata": {
    "_cell_guid": "7bd8f8b6-8a60-4a12-b94b-4100188845da",
    "_uuid": "fc95b22f0f4d7a6bc0cb1a7cc55abfb204cc81f9"
   },
   "source": [
    "Maintenant que nos dates sont analysées correctement, nous pouvons travailler avec celles-ci.\n",
    "\n",
    "___\n",
    "* Bien que nous spécifions le format de la date ici, il arrive parfois que vous rencontriez une erreur lorsque plusieurs formats de date sont présents dans une même colonne. Dans ce cas, vous pouvez demander à pandas de déduire le bon format de date. Vous pouvez le faire comme suit :\n",
    "\n",
    "`capteur_riviere['date'] = pd.to_datetime(capteur_riviere['date'], infer_datetime_format=True)``\n",
    "\n",
    "**Pourquoi ne pas toujours utiliser `infer_datetime_format = True?`** Il y a deux grandes raisons de ne pas toujours faire deviner à pandas le format de l'heure. La première est que pandas n'est toujours capable de trouver le bon format de date, surtout si quelqu'un a fait preuve de créativité dans la saisie des données. La seconde est que c'est beaucoup plus lent que de spécifier le format exact des dates.\n",
    "____"
   ]
  },
  {
   "cell_type": "code",
   "execution_count": 16,
   "metadata": {},
   "outputs": [],
   "source": [
    "capteur_ZH['dates'] = pd.to_datetime(capteur_ZH['dates'], infer_datetime_format=True, errors='coerce')"
   ]
  },
  {
   "cell_type": "code",
   "execution_count": 17,
   "metadata": {},
   "outputs": [
    {
     "data": {
      "text/html": [
       "<div>\n",
       "<style scoped>\n",
       "    .dataframe tbody tr th:only-of-type {\n",
       "        vertical-align: middle;\n",
       "    }\n",
       "\n",
       "    .dataframe tbody tr th {\n",
       "        vertical-align: top;\n",
       "    }\n",
       "\n",
       "    .dataframe thead th {\n",
       "        text-align: right;\n",
       "    }\n",
       "</style>\n",
       "<table border=\"1\" class=\"dataframe\">\n",
       "  <thead>\n",
       "    <tr style=\"text-align: right;\">\n",
       "      <th></th>\n",
       "      <th>Titre de tracé : point_montberneux</th>\n",
       "      <th>dates</th>\n",
       "      <th>tension_V</th>\n",
       "      <th>temperature_stream_C</th>\n",
       "      <th>charge_m</th>\n",
       "    </tr>\n",
       "  </thead>\n",
       "  <tbody>\n",
       "    <tr>\n",
       "      <th>0</th>\n",
       "      <td>#</td>\n",
       "      <td>NaT</td>\n",
       "      <td>NaN</td>\n",
       "      <td>NaN</td>\n",
       "      <td>NaN</td>\n",
       "    </tr>\n",
       "    <tr>\n",
       "      <th>1</th>\n",
       "      <td>1</td>\n",
       "      <td>2016-06-27 12:00:00</td>\n",
       "      <td>1.26787</td>\n",
       "      <td>18.342</td>\n",
       "      <td>-0.020848</td>\n",
       "    </tr>\n",
       "    <tr>\n",
       "      <th>2</th>\n",
       "      <td>2</td>\n",
       "      <td>2016-06-27 12:15:00</td>\n",
       "      <td>1.06630</td>\n",
       "      <td>13.898</td>\n",
       "      <td>0.112499</td>\n",
       "    </tr>\n",
       "    <tr>\n",
       "      <th>3</th>\n",
       "      <td>3</td>\n",
       "      <td>2016-06-27 12:30:00</td>\n",
       "      <td>1.20661</td>\n",
       "      <td>13.915</td>\n",
       "      <td>0.016578</td>\n",
       "    </tr>\n",
       "    <tr>\n",
       "      <th>4</th>\n",
       "      <td>4</td>\n",
       "      <td>2016-06-27 12:45:00</td>\n",
       "      <td>1.24533</td>\n",
       "      <td>13.939</td>\n",
       "      <td>-0.009873</td>\n",
       "    </tr>\n",
       "  </tbody>\n",
       "</table>\n",
       "</div>"
      ],
      "text/plain": [
       "  Titre de tracé : point_montberneux               dates  tension_V  \\\n",
       "0                                  #                 NaT        NaN   \n",
       "1                                  1 2016-06-27 12:00:00    1.26787   \n",
       "2                                  2 2016-06-27 12:15:00    1.06630   \n",
       "3                                  3 2016-06-27 12:30:00    1.20661   \n",
       "4                                  4 2016-06-27 12:45:00    1.24533   \n",
       "\n",
       "   temperature_stream_C  charge_m  \n",
       "0                   NaN       NaN  \n",
       "1                18.342 -0.020848  \n",
       "2                13.898  0.112499  \n",
       "3                13.915  0.016578  \n",
       "4                13.939 -0.009873  "
      ]
     },
     "execution_count": 17,
     "metadata": {},
     "output_type": "execute_result"
    }
   ],
   "source": [
    "capteur_riviere.head()"
   ]
  },
  {
   "cell_type": "markdown",
   "metadata": {
    "_cell_guid": "fe33df7d-c85d-4b61-b572-5682e6eea81b",
    "_uuid": "a2cec7b480ef13c070d40ca0e0763d2d30a86a9c"
   },
   "source": [
    "## Tracer le jour du mois pour vérifier l'analyse de la date\n",
    "___\n",
    "\n",
    "L'un des plus grands dangers de l'analyse des dates est de mélanger les mois et les jours. La fonction to_datetime() a des messages d'erreur très utiles, mais il n'est pas inutile de vérifier que les jours du mois que nous avons extraits ont un sens. \n",
    "\n",
    "Pour ce faire, nous allons tracer un histogramme des jours du mois. Nous nous attendons à ce qu'il ait des valeurs entre 1 et 31 et, puisqu'il n'y a aucune raison de supposer que les glissements de terrain sont plus fréquents certains jours du mois que d'autres, une distribution relativement égale. (Avec un creux sur 31 car tous les mois n'ont pas 31 jours.) "
   ]
  },
  {
   "cell_type": "code",
   "execution_count": 18,
   "metadata": {
    "_cell_guid": "49feb18f-c077-474e-9353-a24ae850acf6",
    "_uuid": "d3d5a143d3d49e10187e420abfe9cfe18c7bac56",
    "jupyter": {
     "outputs_hidden": true
    }
   },
   "outputs": [
    {
     "data": {
      "text/html": [
       "<div>\n",
       "<style scoped>\n",
       "    .dataframe tbody tr th:only-of-type {\n",
       "        vertical-align: middle;\n",
       "    }\n",
       "\n",
       "    .dataframe tbody tr th {\n",
       "        vertical-align: top;\n",
       "    }\n",
       "\n",
       "    .dataframe thead th {\n",
       "        text-align: right;\n",
       "    }\n",
       "</style>\n",
       "<table border=\"1\" class=\"dataframe\">\n",
       "  <thead>\n",
       "    <tr style=\"text-align: right;\">\n",
       "      <th></th>\n",
       "      <th>Titre de tracé : point_montberneux</th>\n",
       "      <th>dates</th>\n",
       "      <th>tension_V</th>\n",
       "      <th>temperature_stream_C</th>\n",
       "      <th>charge_m</th>\n",
       "      <th>jour</th>\n",
       "    </tr>\n",
       "  </thead>\n",
       "  <tbody>\n",
       "    <tr>\n",
       "      <th>0</th>\n",
       "      <td>#</td>\n",
       "      <td>NaT</td>\n",
       "      <td>NaN</td>\n",
       "      <td>NaN</td>\n",
       "      <td>NaN</td>\n",
       "      <td>NaN</td>\n",
       "    </tr>\n",
       "    <tr>\n",
       "      <th>1</th>\n",
       "      <td>1</td>\n",
       "      <td>2016-06-27 12:00:00</td>\n",
       "      <td>1.26787</td>\n",
       "      <td>18.342</td>\n",
       "      <td>-0.020848</td>\n",
       "      <td>27.0</td>\n",
       "    </tr>\n",
       "    <tr>\n",
       "      <th>2</th>\n",
       "      <td>2</td>\n",
       "      <td>2016-06-27 12:15:00</td>\n",
       "      <td>1.06630</td>\n",
       "      <td>13.898</td>\n",
       "      <td>0.112499</td>\n",
       "      <td>27.0</td>\n",
       "    </tr>\n",
       "    <tr>\n",
       "      <th>3</th>\n",
       "      <td>3</td>\n",
       "      <td>2016-06-27 12:30:00</td>\n",
       "      <td>1.20661</td>\n",
       "      <td>13.915</td>\n",
       "      <td>0.016578</td>\n",
       "      <td>27.0</td>\n",
       "    </tr>\n",
       "    <tr>\n",
       "      <th>4</th>\n",
       "      <td>4</td>\n",
       "      <td>2016-06-27 12:45:00</td>\n",
       "      <td>1.24533</td>\n",
       "      <td>13.939</td>\n",
       "      <td>-0.009873</td>\n",
       "      <td>27.0</td>\n",
       "    </tr>\n",
       "  </tbody>\n",
       "</table>\n",
       "</div>"
      ],
      "text/plain": [
       "  Titre de tracé : point_montberneux               dates  tension_V  \\\n",
       "0                                  #                 NaT        NaN   \n",
       "1                                  1 2016-06-27 12:00:00    1.26787   \n",
       "2                                  2 2016-06-27 12:15:00    1.06630   \n",
       "3                                  3 2016-06-27 12:30:00    1.20661   \n",
       "4                                  4 2016-06-27 12:45:00    1.24533   \n",
       "\n",
       "   temperature_stream_C  charge_m  jour  \n",
       "0                   NaN       NaN   NaN  \n",
       "1                18.342 -0.020848  27.0  \n",
       "2                13.898  0.112499  27.0  \n",
       "3                13.915  0.016578  27.0  \n",
       "4                13.939 -0.009873  27.0  "
      ]
     },
     "execution_count": 18,
     "metadata": {},
     "output_type": "execute_result"
    },
    {
     "data": {
      "image/png": "[encoded data removed]",
      "text/plain": [
       "<Figure size 432x288 with 1 Axes>"
      ]
     },
     "metadata": {
      "needs_background": "light"
     },
     "output_type": "display_data"
    }
   ],
   "source": [
    "capteur_riviere['jour'] = capteur_riviere['dates'].apply(lambda x: x.day)\n",
    "capteur_riviere.hist(column = ['jour'],bins=31)\n",
    "capteur_riviere.head()"
   ]
  },
  {
   "cell_type": "code",
   "execution_count": 19,
   "metadata": {},
   "outputs": [
    {
     "data": {
      "text/html": [
       "<div>\n",
       "<style scoped>\n",
       "    .dataframe tbody tr th:only-of-type {\n",
       "        vertical-align: middle;\n",
       "    }\n",
       "\n",
       "    .dataframe tbody tr th {\n",
       "        vertical-align: top;\n",
       "    }\n",
       "\n",
       "    .dataframe thead th {\n",
       "        text-align: right;\n",
       "    }\n",
       "</style>\n",
       "<table border=\"1\" class=\"dataframe\">\n",
       "  <thead>\n",
       "    <tr style=\"text-align: right;\">\n",
       "      <th></th>\n",
       "      <th>#</th>\n",
       "      <th>dates</th>\n",
       "      <th>temperature_depth_1_C</th>\n",
       "      <th>temperature_depth_2_C</th>\n",
       "      <th>temperature_depth_3_C</th>\n",
       "      <th>temperature_depth_4_C</th>\n",
       "      <th>jour</th>\n",
       "    </tr>\n",
       "  </thead>\n",
       "  <tbody>\n",
       "    <tr>\n",
       "      <th>0</th>\n",
       "      <td>1</td>\n",
       "      <td>2016-06-27 12:00:00</td>\n",
       "      <td>13.810</td>\n",
       "      <td>13.834</td>\n",
       "      <td>13.858</td>\n",
       "      <td>13.810</td>\n",
       "      <td>27</td>\n",
       "    </tr>\n",
       "    <tr>\n",
       "      <th>1</th>\n",
       "      <td>2</td>\n",
       "      <td>2016-06-27 12:15:00</td>\n",
       "      <td>13.834</td>\n",
       "      <td>13.858</td>\n",
       "      <td>13.882</td>\n",
       "      <td>13.834</td>\n",
       "      <td>27</td>\n",
       "    </tr>\n",
       "    <tr>\n",
       "      <th>2</th>\n",
       "      <td>3</td>\n",
       "      <td>2016-06-27 12:30:00</td>\n",
       "      <td>13.930</td>\n",
       "      <td>13.954</td>\n",
       "      <td>14.050</td>\n",
       "      <td>14.002</td>\n",
       "      <td>27</td>\n",
       "    </tr>\n",
       "    <tr>\n",
       "      <th>3</th>\n",
       "      <td>4</td>\n",
       "      <td>2016-06-27 12:45:00</td>\n",
       "      <td>13.882</td>\n",
       "      <td>13.954</td>\n",
       "      <td>14.026</td>\n",
       "      <td>13.954</td>\n",
       "      <td>27</td>\n",
       "    </tr>\n",
       "    <tr>\n",
       "      <th>4</th>\n",
       "      <td>5</td>\n",
       "      <td>2016-06-27 13:00:00</td>\n",
       "      <td>13.858</td>\n",
       "      <td>13.930</td>\n",
       "      <td>14.026</td>\n",
       "      <td>13.954</td>\n",
       "      <td>27</td>\n",
       "    </tr>\n",
       "  </tbody>\n",
       "</table>\n",
       "</div>"
      ],
      "text/plain": [
       "   #               dates  temperature_depth_1_C  temperature_depth_2_C  \\\n",
       "0  1 2016-06-27 12:00:00                 13.810                 13.834   \n",
       "1  2 2016-06-27 12:15:00                 13.834                 13.858   \n",
       "2  3 2016-06-27 12:30:00                 13.930                 13.954   \n",
       "3  4 2016-06-27 12:45:00                 13.882                 13.954   \n",
       "4  5 2016-06-27 13:00:00                 13.858                 13.930   \n",
       "\n",
       "   temperature_depth_3_C  temperature_depth_4_C  jour  \n",
       "0                 13.858                 13.810    27  \n",
       "1                 13.882                 13.834    27  \n",
       "2                 14.050                 14.002    27  \n",
       "3                 14.026                 13.954    27  \n",
       "4                 14.026                 13.954    27  "
      ]
     },
     "execution_count": 19,
     "metadata": {},
     "output_type": "execute_result"
    },
    {
     "data": {
      "image/png": "[encoded data removed]",
      "text/plain": [
       "<Figure size 432x288 with 1 Axes>"
      ]
     },
     "metadata": {
      "needs_background": "light"
     },
     "output_type": "display_data"
    }
   ],
   "source": [
    "capteur_ZH['jour'] = capteur_ZH['dates'].apply(lambda x: x.day)\n",
    "capteur_ZH.hist(column = ['jour'],bins=31)\n",
    "capteur_ZH.head()"
   ]
  },
  {
   "cell_type": "markdown",
   "metadata": {},
   "source": [
    "on a pris des mesures du 26 juin au 12 juillet, il est donc normal d'observer un tel creux dans l'histogramme"
   ]
  },
  {
   "cell_type": "markdown",
   "metadata": {},
   "source": [
    "# Valeurs aberrantes\n",
    "\n",
    "L'un des plus grands défis du nettoyage des données est l'identification et le traitement des valeurs aberrantes. En termes simples, les valeurs aberrantes sont des observations qui sont significativement différentes des autres points de données. Même les meilleurs algorithmes d'estimation des paramètres automatique seront moins performants si les observations aberrantes ne sont pas nettoyées des données, car elles impliquent des simulations obsolètes des variables.\n",
    "\n"
   ]
  },
  {
   "cell_type": "code",
   "execution_count": 20,
   "metadata": {},
   "outputs": [
    {
     "name": "stdout",
     "output_type": "stream",
     "text": [
      "<class 'pandas.core.frame.DataFrame'>\n",
      "RangeIndex: 1461 entries, 0 to 1460\n",
      "Data columns (total 6 columns):\n",
      " #   Column                              Non-Null Count  Dtype         \n",
      "---  ------                              --------------  -----         \n",
      " 0   Titre de tracé : point_montberneux  1461 non-null   object        \n",
      " 1   dates                               1460 non-null   datetime64[ns]\n",
      " 2   tension_V                           1460 non-null   float64       \n",
      " 3   temperature_stream_C                1460 non-null   float64       \n",
      " 4   charge_m                            1460 non-null   float64       \n",
      " 5   jour                                1460 non-null   float64       \n",
      "dtypes: datetime64[ns](1), float64(4), object(1)\n",
      "memory usage: 68.6+ KB\n",
      "None\n"
     ]
    }
   ],
   "source": [
    "print(capteur_riviere.info())"
   ]
  },
  {
   "cell_type": "code",
   "execution_count": 21,
   "metadata": {},
   "outputs": [
    {
     "name": "stdout",
     "output_type": "stream",
     "text": [
      "<class 'pandas.core.frame.DataFrame'>\n",
      "RangeIndex: 1438 entries, 0 to 1437\n",
      "Data columns (total 7 columns):\n",
      " #   Column                 Non-Null Count  Dtype         \n",
      "---  ------                 --------------  -----         \n",
      " 0   #                      1438 non-null   int64         \n",
      " 1   dates                  1438 non-null   datetime64[ns]\n",
      " 2   temperature_depth_1_C  1436 non-null   float64       \n",
      " 3   temperature_depth_2_C  1436 non-null   float64       \n",
      " 4   temperature_depth_3_C  1436 non-null   float64       \n",
      " 5   temperature_depth_4_C  1436 non-null   float64       \n",
      " 6   jour                   1438 non-null   int64         \n",
      "dtypes: datetime64[ns](1), float64(4), int64(2)\n",
      "memory usage: 78.8 KB\n",
      "None\n"
     ]
    }
   ],
   "source": [
    "print(capteur_ZH.info())"
   ]
  },
  {
   "cell_type": "markdown",
   "metadata": {},
   "source": []
  },
  {
   "cell_type": "markdown",
   "metadata": {},
   "source": [
    "## Identification des valeurs aberrantes\n",
    "\n",
    "La présence de valeurs aberrantes dans les données peut avoir de nombreuses raisons. Parfois, les valeurs aberrantes peuvent être authentiques, alors que dans d'autres cas, elles peuvent être dues à des erreurs de saisie de données. Il est important de comprendre les raisons des valeurs aberrantes avant de les nettoyer.\n",
    "\n",
    "Nous allons commencer le processus de recherche des valeurs aberrantes en exécutant les statistiques sommaires sur les variables. Pour ce faire, nous utilisons la fonction describe() ci-dessous, qui fournit un résumé statistique de toutes les variables quantitatives.\n",
    "\n",
    "\n"
   ]
  },
  {
   "cell_type": "markdown",
   "metadata": {},
   "source": [
    "## Tracez les graphiques de distribution pour les différentes variables"
   ]
  },
  {
   "cell_type": "code",
   "execution_count": 22,
   "metadata": {},
   "outputs": [
    {
     "data": {
      "text/html": [
       "<div>\n",
       "<style scoped>\n",
       "    .dataframe tbody tr th:only-of-type {\n",
       "        vertical-align: middle;\n",
       "    }\n",
       "\n",
       "    .dataframe tbody tr th {\n",
       "        vertical-align: top;\n",
       "    }\n",
       "\n",
       "    .dataframe thead th {\n",
       "        text-align: right;\n",
       "    }\n",
       "</style>\n",
       "<table border=\"1\" class=\"dataframe\">\n",
       "  <thead>\n",
       "    <tr style=\"text-align: right;\">\n",
       "      <th></th>\n",
       "      <th>tension_V</th>\n",
       "      <th>temperature_stream_C</th>\n",
       "      <th>charge_m</th>\n",
       "      <th>jour</th>\n",
       "    </tr>\n",
       "  </thead>\n",
       "  <tbody>\n",
       "    <tr>\n",
       "      <th>count</th>\n",
       "      <td>1460.000000</td>\n",
       "      <td>1460.000000</td>\n",
       "      <td>1460.000000</td>\n",
       "      <td>1460.000000</td>\n",
       "    </tr>\n",
       "    <tr>\n",
       "      <th>mean</th>\n",
       "      <td>1.256888</td>\n",
       "      <td>14.896441</td>\n",
       "      <td>-0.016812</td>\n",
       "      <td>11.506849</td>\n",
       "    </tr>\n",
       "    <tr>\n",
       "      <th>std</th>\n",
       "      <td>0.047302</td>\n",
       "      <td>1.142397</td>\n",
       "      <td>0.032176</td>\n",
       "      <td>9.880885</td>\n",
       "    </tr>\n",
       "    <tr>\n",
       "      <th>min</th>\n",
       "      <td>0.652670</td>\n",
       "      <td>9.066000</td>\n",
       "      <td>-0.140099</td>\n",
       "      <td>1.000000</td>\n",
       "    </tr>\n",
       "    <tr>\n",
       "      <th>25%</th>\n",
       "      <td>1.246590</td>\n",
       "      <td>14.203750</td>\n",
       "      <td>-0.025327</td>\n",
       "      <td>4.000000</td>\n",
       "    </tr>\n",
       "    <tr>\n",
       "      <th>50%</th>\n",
       "      <td>1.262150</td>\n",
       "      <td>14.818000</td>\n",
       "      <td>-0.020557</td>\n",
       "      <td>8.000000</td>\n",
       "    </tr>\n",
       "    <tr>\n",
       "      <th>75%</th>\n",
       "      <td>1.270010</td>\n",
       "      <td>15.555000</td>\n",
       "      <td>-0.009784</td>\n",
       "      <td>12.000000</td>\n",
       "    </tr>\n",
       "    <tr>\n",
       "      <th>max</th>\n",
       "      <td>1.432100</td>\n",
       "      <td>18.342000</td>\n",
       "      <td>0.390494</td>\n",
       "      <td>30.000000</td>\n",
       "    </tr>\n",
       "  </tbody>\n",
       "</table>\n",
       "</div>"
      ],
      "text/plain": [
       "         tension_V  temperature_stream_C     charge_m         jour\n",
       "count  1460.000000           1460.000000  1460.000000  1460.000000\n",
       "mean      1.256888             14.896441    -0.016812    11.506849\n",
       "std       0.047302              1.142397     0.032176     9.880885\n",
       "min       0.652670              9.066000    -0.140099     1.000000\n",
       "25%       1.246590             14.203750    -0.025327     4.000000\n",
       "50%       1.262150             14.818000    -0.020557     8.000000\n",
       "75%       1.270010             15.555000    -0.009784    12.000000\n",
       "max       1.432100             18.342000     0.390494    30.000000"
      ]
     },
     "execution_count": 22,
     "metadata": {},
     "output_type": "execute_result"
    }
   ],
   "source": [
    "capteur_riviere.describe()"
   ]
  },
  {
   "cell_type": "code",
   "execution_count": 23,
   "metadata": {},
   "outputs": [
    {
     "data": {
      "text/html": [
       "<div>\n",
       "<style scoped>\n",
       "    .dataframe tbody tr th:only-of-type {\n",
       "        vertical-align: middle;\n",
       "    }\n",
       "\n",
       "    .dataframe tbody tr th {\n",
       "        vertical-align: top;\n",
       "    }\n",
       "\n",
       "    .dataframe thead th {\n",
       "        text-align: right;\n",
       "    }\n",
       "</style>\n",
       "<table border=\"1\" class=\"dataframe\">\n",
       "  <thead>\n",
       "    <tr style=\"text-align: right;\">\n",
       "      <th></th>\n",
       "      <th>#</th>\n",
       "      <th>temperature_depth_1_C</th>\n",
       "      <th>temperature_depth_2_C</th>\n",
       "      <th>temperature_depth_3_C</th>\n",
       "      <th>temperature_depth_4_C</th>\n",
       "      <th>jour</th>\n",
       "    </tr>\n",
       "  </thead>\n",
       "  <tbody>\n",
       "    <tr>\n",
       "      <th>count</th>\n",
       "      <td>1438.000000</td>\n",
       "      <td>1436.000000</td>\n",
       "      <td>1436.000000</td>\n",
       "      <td>1436.000000</td>\n",
       "      <td>1436.000000</td>\n",
       "      <td>1438.000000</td>\n",
       "    </tr>\n",
       "    <tr>\n",
       "      <th>mean</th>\n",
       "      <td>719.500000</td>\n",
       "      <td>14.717557</td>\n",
       "      <td>14.502795</td>\n",
       "      <td>14.348946</td>\n",
       "      <td>14.097808</td>\n",
       "      <td>11.499305</td>\n",
       "    </tr>\n",
       "    <tr>\n",
       "      <th>std</th>\n",
       "      <td>415.259156</td>\n",
       "      <td>0.721799</td>\n",
       "      <td>0.531472</td>\n",
       "      <td>0.423288</td>\n",
       "      <td>0.328507</td>\n",
       "      <td>9.956045</td>\n",
       "    </tr>\n",
       "    <tr>\n",
       "      <th>min</th>\n",
       "      <td>1.000000</td>\n",
       "      <td>13.329000</td>\n",
       "      <td>13.642000</td>\n",
       "      <td>13.762000</td>\n",
       "      <td>13.690000</td>\n",
       "      <td>1.000000</td>\n",
       "    </tr>\n",
       "    <tr>\n",
       "      <th>25%</th>\n",
       "      <td>360.250000</td>\n",
       "      <td>14.146000</td>\n",
       "      <td>14.098000</td>\n",
       "      <td>14.050000</td>\n",
       "      <td>13.882000</td>\n",
       "      <td>4.000000</td>\n",
       "    </tr>\n",
       "    <tr>\n",
       "      <th>50%</th>\n",
       "      <td>719.500000</td>\n",
       "      <td>14.625000</td>\n",
       "      <td>14.409000</td>\n",
       "      <td>14.242000</td>\n",
       "      <td>14.002000</td>\n",
       "      <td>8.000000</td>\n",
       "    </tr>\n",
       "    <tr>\n",
       "      <th>75%</th>\n",
       "      <td>1078.750000</td>\n",
       "      <td>15.127000</td>\n",
       "      <td>14.768000</td>\n",
       "      <td>14.505000</td>\n",
       "      <td>14.194000</td>\n",
       "      <td>12.000000</td>\n",
       "    </tr>\n",
       "    <tr>\n",
       "      <th>max</th>\n",
       "      <td>1438.000000</td>\n",
       "      <td>17.320000</td>\n",
       "      <td>17.296000</td>\n",
       "      <td>17.034000</td>\n",
       "      <td>17.130000</td>\n",
       "      <td>30.000000</td>\n",
       "    </tr>\n",
       "  </tbody>\n",
       "</table>\n",
       "</div>"
      ],
      "text/plain": [
       "                 #  temperature_depth_1_C  temperature_depth_2_C  \\\n",
       "count  1438.000000            1436.000000            1436.000000   \n",
       "mean    719.500000              14.717557              14.502795   \n",
       "std     415.259156               0.721799               0.531472   \n",
       "min       1.000000              13.329000              13.642000   \n",
       "25%     360.250000              14.146000              14.098000   \n",
       "50%     719.500000              14.625000              14.409000   \n",
       "75%    1078.750000              15.127000              14.768000   \n",
       "max    1438.000000              17.320000              17.296000   \n",
       "\n",
       "       temperature_depth_3_C  temperature_depth_4_C         jour  \n",
       "count            1436.000000            1436.000000  1438.000000  \n",
       "mean               14.348946              14.097808    11.499305  \n",
       "std                 0.423288               0.328507     9.956045  \n",
       "min                13.762000              13.690000     1.000000  \n",
       "25%                14.050000              13.882000     4.000000  \n",
       "50%                14.242000              14.002000     8.000000  \n",
       "75%                14.505000              14.194000    12.000000  \n",
       "max                17.034000              17.130000    30.000000  "
      ]
     },
     "execution_count": 23,
     "metadata": {},
     "output_type": "execute_result"
    }
   ],
   "source": [
    "capteur_ZH.describe()"
   ]
  },
  {
   "cell_type": "markdown",
   "metadata": {},
   "source": [
    "## Tracez les graphiques de distribution pour les différentes variables"
   ]
  },
  {
   "cell_type": "markdown",
   "metadata": {},
   "source": [
    "#### 1. Box plot\n",
    "\n",
    "Le box plot est une manière standardisée d'afficher la distribution des données sur la base du résumé en cinq chiffres (minimum, premier quartile (Q1), médiane, troisième quartile (Q3) et maximum). Elle est souvent utilisée pour identifier la distribution des données et détecter les valeurs aberrantes. La ligne de code ci-dessous trace le box plot de la variable numérique 'Loan_amount'. "
   ]
  },
  {
   "cell_type": "code",
   "execution_count": 24,
   "metadata": {},
   "outputs": [
    {
     "data": {
      "text/plain": [
       "<AxesSubplot:>"
      ]
     },
     "execution_count": 24,
     "metadata": {},
     "output_type": "execute_result"
    },
    {
     "data": {
      "image/png": "[encoded data removed]",
      "text/plain": [
       "<Figure size 432x288 with 1 Axes>"
      ]
     },
     "metadata": {
      "needs_background": "light"
     },
     "output_type": "display_data"
    }
   ],
   "source": [
    "capteur_riviere.boxplot(['tension_V'])#on peut tracer ainsi toutes les boites pour les deux tableaux"
   ]
  },
  {
   "cell_type": "markdown",
   "metadata": {},
   "source": [
    "## 2. Histogramme\n",
    "\n",
    "Un histogramme est utilisé pour visualiser la distribution d'une variable numérique. Une valeur aberrante apparaît en dehors du modèle général de distribution. La ligne de code ci-dessous trace un histogramme de la variable 'Revenu', en utilisant la fonction hist(). A histogram is used to visualize the distribution of a numerical variable. An outlier will appear outside the overall pattern of distribution. The line of code below plots a histogram of the 'Income' variable, using the hist() function. "
   ]
  },
  {
   "cell_type": "code",
   "execution_count": 25,
   "metadata": {},
   "outputs": [
    {
     "data": {
      "text/plain": [
       "array([[<AxesSubplot:title={'center':'tension_V'}>,\n",
       "        <AxesSubplot:title={'center':'temperature_stream_C'}>],\n",
       "       [<AxesSubplot:title={'center':'charge_m'}>,\n",
       "        <AxesSubplot:title={'center':'jour'}>]], dtype=object)"
      ]
     },
     "execution_count": 25,
     "metadata": {},
     "output_type": "execute_result"
    },
    {
     "data": {
      "image/png": "[encoded data removed]",
      "text/plain": [
       "<Figure size 432x288 with 4 Axes>"
      ]
     },
     "metadata": {
      "needs_background": "light"
     },
     "output_type": "display_data"
    }
   ],
   "source": [
    "capteur_riviere.hist()"
   ]
  },
  {
   "cell_type": "code",
   "execution_count": 26,
   "metadata": {},
   "outputs": [
    {
     "data": {
      "text/plain": [
       "array([[<AxesSubplot:title={'center':'#'}>,\n",
       "        <AxesSubplot:title={'center':'temperature_depth_1_C'}>],\n",
       "       [<AxesSubplot:title={'center':'temperature_depth_2_C'}>,\n",
       "        <AxesSubplot:title={'center':'temperature_depth_3_C'}>],\n",
       "       [<AxesSubplot:title={'center':'temperature_depth_4_C'}>,\n",
       "        <AxesSubplot:title={'center':'jour'}>]], dtype=object)"
      ]
     },
     "execution_count": 26,
     "metadata": {},
     "output_type": "execute_result"
    },
    {
     "data": {
      "image/png": "[encoded data removed]",
      "text/plain": [
       "<Figure size 432x288 with 6 Axes>"
      ]
     },
     "metadata": {
      "needs_background": "light"
     },
     "output_type": "display_data"
    }
   ],
   "source": [
    "capteur_ZH.hist()"
   ]
  },
  {
   "cell_type": "markdown",
   "metadata": {},
   "source": [
    "## 3. Scatterplot\n",
    "\n",
    "Un nuage de points permet de visualiser la relation entre deux variables quantitatives. Les données sont affichées sous la forme d'une collection de points, et tout point qui ne correspond pas au regroupement général des deux variables peut indiquer des valeurs aberrantes. \n",
    "\n",
    "génèrez un nuage de points entre les différentes variables de températures. \n",
    "\n"
   ]
  },
  {
   "cell_type": "code",
   "execution_count": 27,
   "metadata": {},
   "outputs": [
    {
     "data": {
      "text/plain": [
       "<matplotlib.collections.PathCollection at 0x17d5e1568b0>"
      ]
     },
     "execution_count": 27,
     "metadata": {},
     "output_type": "execute_result"
    },
    {
     "data": {
      "image/png": "[encoded data removed]",
      "text/plain": [
       "<Figure size 432x288 with 1 Axes>"
      ]
     },
     "metadata": {
      "needs_background": "light"
     },
     "output_type": "display_data"
    }
   ],
   "source": [
    "plt.scatter(capteur_ZH['temperature_depth_1_C'],capteur_ZH['temperature_depth_4_C'])"
   ]
  },
  {
   "cell_type": "markdown",
   "metadata": {},
   "source": [
    "## Identification des valeurs aberrantes avec l'écart interquartile (IQR)\n",
    "\n",
    "L'écart interquartile (IQR) est une mesure de la dispersion statistique et est calculé comme la différence entre les 75e et 25e percentiles. Il est représenté par la formule IQR = Q3 - Q1. Les  lignes de code ci-dessous calculent et impriment l'écart interquartile pour chacune des variables de l'ensemble de données.  La règle générale est que tout ce qui n'est pas dans la plage de (Q1 - 1,5 IQR) et (Q3 + 1,5 IQR) est une valeur aberrante et peut être supprimé.\n"
   ]
  },
  {
   "cell_type": "markdown",
   "metadata": {},
   "source": [
    "### Fonctions d'assistance\n",
    "\n",
    "Ecrire des fonctions afin d'examiner chaque colonne des deux fichiers de données de terain et de calculer les 1er et 3e quartiles, l'intervalle inter-quartile et le minimum et le maximum. Toute valeur en dehors du minimum et du maximum est une valeur aberrante."
   ]
  },
  {
   "cell_type": "code",
   "execution_count": 28,
   "metadata": {},
   "outputs": [],
   "source": [
    "#création des valeurs quartiles etc\n",
    "stats_riviere=capteur_riviere.describe()\n",
    "stats_ZH=capteur_ZH.describe()\n"
   ]
  },
  {
   "cell_type": "code",
   "execution_count": 29,
   "metadata": {},
   "outputs": [
    {
     "data": {
      "text/html": [
       "<div>\n",
       "<style scoped>\n",
       "    .dataframe tbody tr th:only-of-type {\n",
       "        vertical-align: middle;\n",
       "    }\n",
       "\n",
       "    .dataframe tbody tr th {\n",
       "        vertical-align: top;\n",
       "    }\n",
       "\n",
       "    .dataframe thead th {\n",
       "        text-align: right;\n",
       "    }\n",
       "</style>\n",
       "<table border=\"1\" class=\"dataframe\">\n",
       "  <thead>\n",
       "    <tr style=\"text-align: right;\">\n",
       "      <th></th>\n",
       "      <th>tension_V</th>\n",
       "      <th>temperature_stream_C</th>\n",
       "      <th>charge_m</th>\n",
       "      <th>jour</th>\n",
       "    </tr>\n",
       "  </thead>\n",
       "  <tbody>\n",
       "    <tr>\n",
       "      <th>count</th>\n",
       "      <td>1460.000000</td>\n",
       "      <td>1460.000000</td>\n",
       "      <td>1460.000000</td>\n",
       "      <td>1460.000000</td>\n",
       "    </tr>\n",
       "    <tr>\n",
       "      <th>mean</th>\n",
       "      <td>1.256888</td>\n",
       "      <td>14.896441</td>\n",
       "      <td>-0.016812</td>\n",
       "      <td>11.506849</td>\n",
       "    </tr>\n",
       "    <tr>\n",
       "      <th>std</th>\n",
       "      <td>0.047302</td>\n",
       "      <td>1.142397</td>\n",
       "      <td>0.032176</td>\n",
       "      <td>9.880885</td>\n",
       "    </tr>\n",
       "    <tr>\n",
       "      <th>min</th>\n",
       "      <td>0.652670</td>\n",
       "      <td>9.066000</td>\n",
       "      <td>-0.140099</td>\n",
       "      <td>1.000000</td>\n",
       "    </tr>\n",
       "    <tr>\n",
       "      <th>25%</th>\n",
       "      <td>1.246590</td>\n",
       "      <td>14.203750</td>\n",
       "      <td>-0.025327</td>\n",
       "      <td>4.000000</td>\n",
       "    </tr>\n",
       "    <tr>\n",
       "      <th>50%</th>\n",
       "      <td>1.262150</td>\n",
       "      <td>14.818000</td>\n",
       "      <td>-0.020557</td>\n",
       "      <td>8.000000</td>\n",
       "    </tr>\n",
       "    <tr>\n",
       "      <th>75%</th>\n",
       "      <td>1.270010</td>\n",
       "      <td>15.555000</td>\n",
       "      <td>-0.009784</td>\n",
       "      <td>12.000000</td>\n",
       "    </tr>\n",
       "    <tr>\n",
       "      <th>max</th>\n",
       "      <td>1.432100</td>\n",
       "      <td>18.342000</td>\n",
       "      <td>0.390494</td>\n",
       "      <td>30.000000</td>\n",
       "    </tr>\n",
       "  </tbody>\n",
       "</table>\n",
       "</div>"
      ],
      "text/plain": [
       "         tension_V  temperature_stream_C     charge_m         jour\n",
       "count  1460.000000           1460.000000  1460.000000  1460.000000\n",
       "mean      1.256888             14.896441    -0.016812    11.506849\n",
       "std       0.047302              1.142397     0.032176     9.880885\n",
       "min       0.652670              9.066000    -0.140099     1.000000\n",
       "25%       1.246590             14.203750    -0.025327     4.000000\n",
       "50%       1.262150             14.818000    -0.020557     8.000000\n",
       "75%       1.270010             15.555000    -0.009784    12.000000\n",
       "max       1.432100             18.342000     0.390494    30.000000"
      ]
     },
     "execution_count": 29,
     "metadata": {},
     "output_type": "execute_result"
    }
   ],
   "source": [
    "stats_riviere[0:8]"
   ]
  },
  {
   "cell_type": "code",
   "execution_count": 30,
   "metadata": {},
   "outputs": [],
   "source": [
    "n,p_riviere=stats_riviere.shape\n",
    "IQR=[]\n",
    "Vmin=[]\n",
    "Vmax=[]\n",
    "for i in range(p_riviere):\n",
    "    q1=stats_riviere.iloc[4,i]\n",
    "    q3=stats_riviere.iloc[6,i]\n",
    "    IQR.append(q3-q1)\n",
    "    Vmin.append(q1-1.5*IQR[i])\n",
    "    Vmax.append(q3+1.5*IQR[i])\n",
    "  "
   ]
  },
  {
   "cell_type": "code",
   "execution_count": 31,
   "metadata": {},
   "outputs": [],
   "source": [
    "#on va supprimer les valeurs en deça du min et celle au-dessus du max"
   ]
  },
  {
   "cell_type": "code",
   "execution_count": 32,
   "metadata": {},
   "outputs": [
    {
     "data": {
      "text/plain": [
       "([1.2114599999999995, 12.176874999999999, -0.04864162561239526, -8.0],\n",
       " [1.3051400000000004, 17.581875, 0.013530876857698684, 24.0])"
      ]
     },
     "execution_count": 32,
     "metadata": {},
     "output_type": "execute_result"
    }
   ],
   "source": [
    "Vmin,Vmax"
   ]
  },
  {
   "cell_type": "code",
   "execution_count": 33,
   "metadata": {
    "scrolled": true
   },
   "outputs": [
    {
     "data": {
      "text/html": [
       "<div>\n",
       "<style scoped>\n",
       "    .dataframe tbody tr th:only-of-type {\n",
       "        vertical-align: middle;\n",
       "    }\n",
       "\n",
       "    .dataframe tbody tr th {\n",
       "        vertical-align: top;\n",
       "    }\n",
       "\n",
       "    .dataframe thead th {\n",
       "        text-align: right;\n",
       "    }\n",
       "</style>\n",
       "<table border=\"1\" class=\"dataframe\">\n",
       "  <thead>\n",
       "    <tr style=\"text-align: right;\">\n",
       "      <th></th>\n",
       "      <th>Titre de tracé : point_montberneux</th>\n",
       "      <th>dates</th>\n",
       "      <th>tension_V</th>\n",
       "      <th>temperature_stream_C</th>\n",
       "      <th>charge_m</th>\n",
       "      <th>jour</th>\n",
       "    </tr>\n",
       "  </thead>\n",
       "  <tbody>\n",
       "    <tr>\n",
       "      <th>0</th>\n",
       "      <td>#</td>\n",
       "      <td>NaT</td>\n",
       "      <td>NaN</td>\n",
       "      <td>NaN</td>\n",
       "      <td>NaN</td>\n",
       "      <td>NaN</td>\n",
       "    </tr>\n",
       "    <tr>\n",
       "      <th>1</th>\n",
       "      <td>1</td>\n",
       "      <td>2016-06-27 12:00:00</td>\n",
       "      <td>1.26787</td>\n",
       "      <td>18.342</td>\n",
       "      <td>-0.020848</td>\n",
       "      <td>27.0</td>\n",
       "    </tr>\n",
       "    <tr>\n",
       "      <th>2</th>\n",
       "      <td>2</td>\n",
       "      <td>2016-06-27 12:15:00</td>\n",
       "      <td>1.06630</td>\n",
       "      <td>13.898</td>\n",
       "      <td>0.112499</td>\n",
       "      <td>27.0</td>\n",
       "    </tr>\n",
       "    <tr>\n",
       "      <th>3</th>\n",
       "      <td>3</td>\n",
       "      <td>2016-06-27 12:30:00</td>\n",
       "      <td>1.20661</td>\n",
       "      <td>13.915</td>\n",
       "      <td>0.016578</td>\n",
       "      <td>27.0</td>\n",
       "    </tr>\n",
       "    <tr>\n",
       "      <th>4</th>\n",
       "      <td>4</td>\n",
       "      <td>2016-06-27 12:45:00</td>\n",
       "      <td>1.24533</td>\n",
       "      <td>13.939</td>\n",
       "      <td>-0.009873</td>\n",
       "      <td>27.0</td>\n",
       "    </tr>\n",
       "    <tr>\n",
       "      <th>...</th>\n",
       "      <td>...</td>\n",
       "      <td>...</td>\n",
       "      <td>...</td>\n",
       "      <td>...</td>\n",
       "      <td>...</td>\n",
       "      <td>...</td>\n",
       "    </tr>\n",
       "    <tr>\n",
       "      <th>1456</th>\n",
       "      <td>1447</td>\n",
       "      <td>2016-07-12 15:45:00</td>\n",
       "      <td>1.13668</td>\n",
       "      <td>9.126</td>\n",
       "      <td>0.059567</td>\n",
       "      <td>12.0</td>\n",
       "    </tr>\n",
       "    <tr>\n",
       "      <th>1457</th>\n",
       "      <td>1447.7</td>\n",
       "      <td>2016-07-12 16:00:00</td>\n",
       "      <td>1.33513</td>\n",
       "      <td>9.157</td>\n",
       "      <td>-0.076095</td>\n",
       "      <td>12.0</td>\n",
       "    </tr>\n",
       "    <tr>\n",
       "      <th>1458</th>\n",
       "      <td>1448.4</td>\n",
       "      <td>2016-07-12 16:15:00</td>\n",
       "      <td>1.38926</td>\n",
       "      <td>9.199</td>\n",
       "      <td>-0.113065</td>\n",
       "      <td>12.0</td>\n",
       "    </tr>\n",
       "    <tr>\n",
       "      <th>1459</th>\n",
       "      <td>1449.1</td>\n",
       "      <td>2016-07-12 16:30:00</td>\n",
       "      <td>1.41386</td>\n",
       "      <td>9.244</td>\n",
       "      <td>-0.129840</td>\n",
       "      <td>12.0</td>\n",
       "    </tr>\n",
       "    <tr>\n",
       "      <th>1460</th>\n",
       "      <td>1449.8</td>\n",
       "      <td>2016-07-12 16:45:00</td>\n",
       "      <td>1.42794</td>\n",
       "      <td>9.290</td>\n",
       "      <td>-0.139421</td>\n",
       "      <td>12.0</td>\n",
       "    </tr>\n",
       "  </tbody>\n",
       "</table>\n",
       "<p>1461 rows × 6 columns</p>\n",
       "</div>"
      ],
      "text/plain": [
       "     Titre de tracé : point_montberneux               dates  tension_V  \\\n",
       "0                                     #                 NaT        NaN   \n",
       "1                                     1 2016-06-27 12:00:00    1.26787   \n",
       "2                                     2 2016-06-27 12:15:00    1.06630   \n",
       "3                                     3 2016-06-27 12:30:00    1.20661   \n",
       "4                                     4 2016-06-27 12:45:00    1.24533   \n",
       "...                                 ...                 ...        ...   \n",
       "1456                               1447 2016-07-12 15:45:00    1.13668   \n",
       "1457                             1447.7 2016-07-12 16:00:00    1.33513   \n",
       "1458                             1448.4 2016-07-12 16:15:00    1.38926   \n",
       "1459                             1449.1 2016-07-12 16:30:00    1.41386   \n",
       "1460                             1449.8 2016-07-12 16:45:00    1.42794   \n",
       "\n",
       "      temperature_stream_C  charge_m  jour  \n",
       "0                      NaN       NaN   NaN  \n",
       "1                   18.342 -0.020848  27.0  \n",
       "2                   13.898  0.112499  27.0  \n",
       "3                   13.915  0.016578  27.0  \n",
       "4                   13.939 -0.009873  27.0  \n",
       "...                    ...       ...   ...  \n",
       "1456                 9.126  0.059567  12.0  \n",
       "1457                 9.157 -0.076095  12.0  \n",
       "1458                 9.199 -0.113065  12.0  \n",
       "1459                 9.244 -0.129840  12.0  \n",
       "1460                 9.290 -0.139421  12.0  \n",
       "\n",
       "[1461 rows x 6 columns]"
      ]
     },
     "execution_count": 33,
     "metadata": {},
     "output_type": "execute_result"
    }
   ],
   "source": [
    "capteur_riviere"
   ]
  },
  {
   "cell_type": "code",
   "execution_count": 34,
   "metadata": {},
   "outputs": [
    {
     "data": {
      "text/html": [
       "<div>\n",
       "<style scoped>\n",
       "    .dataframe tbody tr th:only-of-type {\n",
       "        vertical-align: middle;\n",
       "    }\n",
       "\n",
       "    .dataframe tbody tr th {\n",
       "        vertical-align: top;\n",
       "    }\n",
       "\n",
       "    .dataframe thead th {\n",
       "        text-align: right;\n",
       "    }\n",
       "</style>\n",
       "<table border=\"1\" class=\"dataframe\">\n",
       "  <thead>\n",
       "    <tr style=\"text-align: right;\">\n",
       "      <th></th>\n",
       "      <th>Titre de tracé : point_montberneux</th>\n",
       "      <th>dates</th>\n",
       "      <th>tension_V</th>\n",
       "      <th>temperature_stream_C</th>\n",
       "      <th>charge_m</th>\n",
       "      <th>jour</th>\n",
       "    </tr>\n",
       "  </thead>\n",
       "  <tbody>\n",
       "    <tr>\n",
       "      <th>0</th>\n",
       "      <td>#</td>\n",
       "      <td>NaT</td>\n",
       "      <td>NaN</td>\n",
       "      <td>NaN</td>\n",
       "      <td>NaN</td>\n",
       "      <td>NaN</td>\n",
       "    </tr>\n",
       "    <tr>\n",
       "      <th>1</th>\n",
       "      <td>1</td>\n",
       "      <td>2016-06-27 12:00:00</td>\n",
       "      <td>1.26787</td>\n",
       "      <td>18.342</td>\n",
       "      <td>-0.020848</td>\n",
       "      <td>27.0</td>\n",
       "    </tr>\n",
       "    <tr>\n",
       "      <th>2</th>\n",
       "      <td>2</td>\n",
       "      <td>2016-06-27 12:15:00</td>\n",
       "      <td>1.06630</td>\n",
       "      <td>13.898</td>\n",
       "      <td>0.112499</td>\n",
       "      <td>27.0</td>\n",
       "    </tr>\n",
       "    <tr>\n",
       "      <th>3</th>\n",
       "      <td>3</td>\n",
       "      <td>2016-06-27 12:30:00</td>\n",
       "      <td>1.20661</td>\n",
       "      <td>13.915</td>\n",
       "      <td>0.016578</td>\n",
       "      <td>27.0</td>\n",
       "    </tr>\n",
       "    <tr>\n",
       "      <th>4</th>\n",
       "      <td>4</td>\n",
       "      <td>2016-06-27 12:45:00</td>\n",
       "      <td>1.24533</td>\n",
       "      <td>13.939</td>\n",
       "      <td>-0.009873</td>\n",
       "      <td>27.0</td>\n",
       "    </tr>\n",
       "    <tr>\n",
       "      <th>...</th>\n",
       "      <td>...</td>\n",
       "      <td>...</td>\n",
       "      <td>...</td>\n",
       "      <td>...</td>\n",
       "      <td>...</td>\n",
       "      <td>...</td>\n",
       "    </tr>\n",
       "    <tr>\n",
       "      <th>1456</th>\n",
       "      <td>1447</td>\n",
       "      <td>2016-07-12 15:45:00</td>\n",
       "      <td>1.13668</td>\n",
       "      <td>9.126</td>\n",
       "      <td>0.059567</td>\n",
       "      <td>12.0</td>\n",
       "    </tr>\n",
       "    <tr>\n",
       "      <th>1457</th>\n",
       "      <td>1447.7</td>\n",
       "      <td>2016-07-12 16:00:00</td>\n",
       "      <td>1.33513</td>\n",
       "      <td>9.157</td>\n",
       "      <td>-0.076095</td>\n",
       "      <td>12.0</td>\n",
       "    </tr>\n",
       "    <tr>\n",
       "      <th>1458</th>\n",
       "      <td>1448.4</td>\n",
       "      <td>2016-07-12 16:15:00</td>\n",
       "      <td>1.38926</td>\n",
       "      <td>9.199</td>\n",
       "      <td>-0.113065</td>\n",
       "      <td>12.0</td>\n",
       "    </tr>\n",
       "    <tr>\n",
       "      <th>1459</th>\n",
       "      <td>1449.1</td>\n",
       "      <td>2016-07-12 16:30:00</td>\n",
       "      <td>1.41386</td>\n",
       "      <td>9.244</td>\n",
       "      <td>-0.129840</td>\n",
       "      <td>12.0</td>\n",
       "    </tr>\n",
       "    <tr>\n",
       "      <th>1460</th>\n",
       "      <td>1449.8</td>\n",
       "      <td>2016-07-12 16:45:00</td>\n",
       "      <td>1.42794</td>\n",
       "      <td>9.290</td>\n",
       "      <td>-0.139421</td>\n",
       "      <td>12.0</td>\n",
       "    </tr>\n",
       "  </tbody>\n",
       "</table>\n",
       "<p>1461 rows × 6 columns</p>\n",
       "</div>"
      ],
      "text/plain": [
       "     Titre de tracé : point_montberneux               dates  tension_V  \\\n",
       "0                                     #                 NaT        NaN   \n",
       "1                                     1 2016-06-27 12:00:00    1.26787   \n",
       "2                                     2 2016-06-27 12:15:00    1.06630   \n",
       "3                                     3 2016-06-27 12:30:00    1.20661   \n",
       "4                                     4 2016-06-27 12:45:00    1.24533   \n",
       "...                                 ...                 ...        ...   \n",
       "1456                               1447 2016-07-12 15:45:00    1.13668   \n",
       "1457                             1447.7 2016-07-12 16:00:00    1.33513   \n",
       "1458                             1448.4 2016-07-12 16:15:00    1.38926   \n",
       "1459                             1449.1 2016-07-12 16:30:00    1.41386   \n",
       "1460                             1449.8 2016-07-12 16:45:00    1.42794   \n",
       "\n",
       "      temperature_stream_C  charge_m  jour  \n",
       "0                      NaN       NaN   NaN  \n",
       "1                   18.342 -0.020848  27.0  \n",
       "2                   13.898  0.112499  27.0  \n",
       "3                   13.915  0.016578  27.0  \n",
       "4                   13.939 -0.009873  27.0  \n",
       "...                    ...       ...   ...  \n",
       "1456                 9.126  0.059567  12.0  \n",
       "1457                 9.157 -0.076095  12.0  \n",
       "1458                 9.199 -0.113065  12.0  \n",
       "1459                 9.244 -0.129840  12.0  \n",
       "1460                 9.290 -0.139421  12.0  \n",
       "\n",
       "[1461 rows x 6 columns]"
      ]
     },
     "execution_count": 34,
     "metadata": {},
     "output_type": "execute_result"
    }
   ],
   "source": [
    "capteur_riviere"
   ]
  },
  {
   "cell_type": "code",
   "execution_count": 35,
   "metadata": {},
   "outputs": [
    {
     "name": "stdout",
     "output_type": "stream",
     "text": [
      "1.2114599999999995 1.3051400000000004\n",
      "2\n",
      "-0.04864162561239526 0.013530876857698684\n",
      "4\n",
      "-8.0 24.0\n",
      "5\n"
     ]
    }
   ],
   "source": [
    "for (indice,colname) in enumerate(capteur_riviere):\n",
    "    if (indice>1 and (indice != p_riviere-1)) :#car les deux premières colonnes de capteur_riviere ne sont pas des floats, et on ne veut pas filtrer selon les jours\n",
    "        vmin,vmax=Vmin[indice-2],Vmax[indice-2]\n",
    "        print(vmin,vmax)\n",
    "        print(indice)\n",
    "        indexNames = capteur_riviere[capteur_riviere[colname] > vmax].index\n",
    "        capteur_riviere.drop(indexNames,inplace=True)\n",
    "        indexNames = capteur_riviere[capteur_riviere[colname] < vmin].index\n",
    "        capteur_riviere.drop(indexNames,inplace=True)\n",
    "\n"
   ]
  },
  {
   "cell_type": "code",
   "execution_count": 36,
   "metadata": {},
   "outputs": [
    {
     "data": {
      "text/html": [
       "<div>\n",
       "<style scoped>\n",
       "    .dataframe tbody tr th:only-of-type {\n",
       "        vertical-align: middle;\n",
       "    }\n",
       "\n",
       "    .dataframe tbody tr th {\n",
       "        vertical-align: top;\n",
       "    }\n",
       "\n",
       "    .dataframe thead th {\n",
       "        text-align: right;\n",
       "    }\n",
       "</style>\n",
       "<table border=\"1\" class=\"dataframe\">\n",
       "  <thead>\n",
       "    <tr style=\"text-align: right;\">\n",
       "      <th></th>\n",
       "      <th>Titre de tracé : point_montberneux</th>\n",
       "      <th>dates</th>\n",
       "      <th>tension_V</th>\n",
       "      <th>temperature_stream_C</th>\n",
       "      <th>charge_m</th>\n",
       "      <th>jour</th>\n",
       "    </tr>\n",
       "  </thead>\n",
       "  <tbody>\n",
       "    <tr>\n",
       "      <th>0</th>\n",
       "      <td>#</td>\n",
       "      <td>NaT</td>\n",
       "      <td>NaN</td>\n",
       "      <td>NaN</td>\n",
       "      <td>NaN</td>\n",
       "      <td>NaN</td>\n",
       "    </tr>\n",
       "    <tr>\n",
       "      <th>337</th>\n",
       "      <td>337</td>\n",
       "      <td>2016-07-01 00:00:00</td>\n",
       "      <td>1.24693</td>\n",
       "      <td>15.561</td>\n",
       "      <td>-0.009333</td>\n",
       "      <td>1.0</td>\n",
       "    </tr>\n",
       "    <tr>\n",
       "      <th>338</th>\n",
       "      <td>338</td>\n",
       "      <td>2016-07-01 00:15:00</td>\n",
       "      <td>1.24731</td>\n",
       "      <td>15.531</td>\n",
       "      <td>-0.009623</td>\n",
       "      <td>1.0</td>\n",
       "    </tr>\n",
       "    <tr>\n",
       "      <th>339</th>\n",
       "      <td>339</td>\n",
       "      <td>2016-07-01 00:30:00</td>\n",
       "      <td>1.24743</td>\n",
       "      <td>15.500</td>\n",
       "      <td>-0.009736</td>\n",
       "      <td>1.0</td>\n",
       "    </tr>\n",
       "    <tr>\n",
       "      <th>340</th>\n",
       "      <td>340</td>\n",
       "      <td>2016-07-01 00:45:00</td>\n",
       "      <td>1.24746</td>\n",
       "      <td>15.470</td>\n",
       "      <td>-0.009787</td>\n",
       "      <td>1.0</td>\n",
       "    </tr>\n",
       "    <tr>\n",
       "      <th>...</th>\n",
       "      <td>...</td>\n",
       "      <td>...</td>\n",
       "      <td>...</td>\n",
       "      <td>...</td>\n",
       "      <td>...</td>\n",
       "      <td>...</td>\n",
       "    </tr>\n",
       "    <tr>\n",
       "      <th>1430</th>\n",
       "      <td>1430</td>\n",
       "      <td>2016-07-12 09:15:00</td>\n",
       "      <td>1.27245</td>\n",
       "      <td>14.214</td>\n",
       "      <td>-0.028140</td>\n",
       "      <td>12.0</td>\n",
       "    </tr>\n",
       "    <tr>\n",
       "      <th>1431</th>\n",
       "      <td>1431</td>\n",
       "      <td>2016-07-12 09:30:00</td>\n",
       "      <td>1.27283</td>\n",
       "      <td>14.237</td>\n",
       "      <td>-0.028377</td>\n",
       "      <td>12.0</td>\n",
       "    </tr>\n",
       "    <tr>\n",
       "      <th>1432</th>\n",
       "      <td>1432</td>\n",
       "      <td>2016-07-12 09:45:00</td>\n",
       "      <td>1.27245</td>\n",
       "      <td>14.255</td>\n",
       "      <td>-0.028099</td>\n",
       "      <td>12.0</td>\n",
       "    </tr>\n",
       "    <tr>\n",
       "      <th>1433</th>\n",
       "      <td>1433</td>\n",
       "      <td>2016-07-12 10:00:00</td>\n",
       "      <td>1.27237</td>\n",
       "      <td>14.279</td>\n",
       "      <td>-0.028020</td>\n",
       "      <td>12.0</td>\n",
       "    </tr>\n",
       "    <tr>\n",
       "      <th>1434</th>\n",
       "      <td>1434</td>\n",
       "      <td>2016-07-12 10:15:00</td>\n",
       "      <td>1.27493</td>\n",
       "      <td>14.285</td>\n",
       "      <td>-0.029764</td>\n",
       "      <td>12.0</td>\n",
       "    </tr>\n",
       "  </tbody>\n",
       "</table>\n",
       "<p>1099 rows × 6 columns</p>\n",
       "</div>"
      ],
      "text/plain": [
       "     Titre de tracé : point_montberneux               dates  tension_V  \\\n",
       "0                                     #                 NaT        NaN   \n",
       "337                                 337 2016-07-01 00:00:00    1.24693   \n",
       "338                                 338 2016-07-01 00:15:00    1.24731   \n",
       "339                                 339 2016-07-01 00:30:00    1.24743   \n",
       "340                                 340 2016-07-01 00:45:00    1.24746   \n",
       "...                                 ...                 ...        ...   \n",
       "1430                               1430 2016-07-12 09:15:00    1.27245   \n",
       "1431                               1431 2016-07-12 09:30:00    1.27283   \n",
       "1432                               1432 2016-07-12 09:45:00    1.27245   \n",
       "1433                               1433 2016-07-12 10:00:00    1.27237   \n",
       "1434                               1434 2016-07-12 10:15:00    1.27493   \n",
       "\n",
       "      temperature_stream_C  charge_m  jour  \n",
       "0                      NaN       NaN   NaN  \n",
       "337                 15.561 -0.009333   1.0  \n",
       "338                 15.531 -0.009623   1.0  \n",
       "339                 15.500 -0.009736   1.0  \n",
       "340                 15.470 -0.009787   1.0  \n",
       "...                    ...       ...   ...  \n",
       "1430                14.214 -0.028140  12.0  \n",
       "1431                14.237 -0.028377  12.0  \n",
       "1432                14.255 -0.028099  12.0  \n",
       "1433                14.279 -0.028020  12.0  \n",
       "1434                14.285 -0.029764  12.0  \n",
       "\n",
       "[1099 rows x 6 columns]"
      ]
     },
     "execution_count": 36,
     "metadata": {},
     "output_type": "execute_result"
    }
   ],
   "source": [
    "capteur_riviere"
   ]
  },
  {
   "cell_type": "code",
   "execution_count": 37,
   "metadata": {},
   "outputs": [
    {
     "data": {
      "text/plain": [
       "(         tension_V  temperature_stream_C     charge_m         jour\n",
       " count  1098.000000           1098.000000  1098.000000  1098.000000\n",
       " mean      1.264272             14.987331    -0.021769     6.229508\n",
       " std       0.009662              1.086238     0.006048     3.309356\n",
       " min       1.245370             12.800000    -0.030618     1.000000\n",
       " 25%       1.260210             14.174000    -0.026113     3.000000\n",
       " 50%       1.265030             14.858000    -0.023068     6.000000\n",
       " 75%       1.272430             15.594000    -0.019945     9.000000\n",
       " max       1.281380             17.928000    -0.009288    12.000000,\n",
       " [1.2114599999999995, 12.176874999999999, -0.04864162561239526, -8.0],\n",
       " [1.3051400000000004, 17.581875, 0.013530876857698684, 24.0],\n",
       " [0.02342000000000022, 1.3512500000000003, 0.015543125617523485, 8.0])"
      ]
     },
     "execution_count": 37,
     "metadata": {},
     "output_type": "execute_result"
    }
   ],
   "source": [
    "capteur_riviere.describe(), Vmin,Vmax,IQR"
   ]
  },
  {
   "cell_type": "code",
   "execution_count": 38,
   "metadata": {},
   "outputs": [
    {
     "name": "stdout",
     "output_type": "stream",
     "text": [
      "<class 'pandas.core.frame.DataFrame'>\n",
      "RangeIndex: 1438 entries, 0 to 1437\n",
      "Data columns (total 7 columns):\n",
      " #   Column                 Non-Null Count  Dtype         \n",
      "---  ------                 --------------  -----         \n",
      " 0   #                      1438 non-null   int64         \n",
      " 1   dates                  1438 non-null   datetime64[ns]\n",
      " 2   temperature_depth_1_C  1436 non-null   float64       \n",
      " 3   temperature_depth_2_C  1436 non-null   float64       \n",
      " 4   temperature_depth_3_C  1436 non-null   float64       \n",
      " 5   temperature_depth_4_C  1436 non-null   float64       \n",
      " 6   jour                   1438 non-null   int64         \n",
      "dtypes: datetime64[ns](1), float64(4), int64(2)\n",
      "memory usage: 78.8 KB\n"
     ]
    },
    {
     "data": {
      "text/plain": [
       "(                 #  temperature_depth_1_C  temperature_depth_2_C  \\\n",
       " count  1438.000000            1436.000000            1436.000000   \n",
       " mean    719.500000              14.717557              14.502795   \n",
       " std     415.259156               0.721799               0.531472   \n",
       " min       1.000000              13.329000              13.642000   \n",
       " 25%     360.250000              14.146000              14.098000   \n",
       " 50%     719.500000              14.625000              14.409000   \n",
       " 75%    1078.750000              15.127000              14.768000   \n",
       " max    1438.000000              17.320000              17.296000   \n",
       " \n",
       "        temperature_depth_3_C  temperature_depth_4_C         jour  \n",
       " count            1436.000000            1436.000000  1438.000000  \n",
       " mean               14.348946              14.097808    11.499305  \n",
       " std                 0.423288               0.328507     9.956045  \n",
       " min                13.762000              13.690000     1.000000  \n",
       " 25%                14.050000              13.882000     4.000000  \n",
       " 50%                14.242000              14.002000     8.000000  \n",
       " 75%                14.505000              14.194000    12.000000  \n",
       " max                17.034000              17.130000    30.000000  ,\n",
       " None)"
      ]
     },
     "execution_count": 38,
     "metadata": {},
     "output_type": "execute_result"
    }
   ],
   "source": [
    "stats_ZH,capteur_ZH.info()\n"
   ]
  },
  {
   "cell_type": "code",
   "execution_count": 39,
   "metadata": {},
   "outputs": [
    {
     "name": "stdout",
     "output_type": "stream",
     "text": [
      "[718.5, 0.9810000000000016, 0.6699999999999999, 0.45500000000000007, 0.31200000000000117, 8.0] [-717.5, 12.674499999999997, 13.093, 13.3675, 13.413999999999998, -8.0] [2156.5, 16.5985, 15.773, 15.1875, 14.662000000000003, 24.0]\n"
     ]
    },
    {
     "data": {
      "text/plain": [
       "(None,\n",
       "                  #  temperature_depth_1_C  temperature_depth_2_C  \\\n",
       " count  1438.000000            1436.000000            1436.000000   \n",
       " mean    719.500000              14.717557              14.502795   \n",
       " std     415.259156               0.721799               0.531472   \n",
       " min       1.000000              13.329000              13.642000   \n",
       " 25%     360.250000              14.146000              14.098000   \n",
       " 50%     719.500000              14.625000              14.409000   \n",
       " 75%    1078.750000              15.127000              14.768000   \n",
       " max    1438.000000              17.320000              17.296000   \n",
       " \n",
       "        temperature_depth_3_C  temperature_depth_4_C         jour  \n",
       " count            1436.000000            1436.000000  1438.000000  \n",
       " mean               14.348946              14.097808    11.499305  \n",
       " std                 0.423288               0.328507     9.956045  \n",
       " min                13.762000              13.690000     1.000000  \n",
       " 25%                14.050000              13.882000     4.000000  \n",
       " 50%                14.242000              14.002000     8.000000  \n",
       " 75%                14.505000              14.194000    12.000000  \n",
       " max                17.034000              17.130000    30.000000  )"
      ]
     },
     "execution_count": 39,
     "metadata": {},
     "output_type": "execute_result"
    }
   ],
   "source": [
    "n,p_ZH=stats_ZH.shape\n",
    "IQR_ZH=[]\n",
    "Vmin_ZH=[]\n",
    "Vmax_ZH=[]\n",
    "for i in range(p_ZH):\n",
    "    q1=stats_ZH.iloc[4,i]\n",
    "    q3=stats_ZH.iloc[6,i]\n",
    "    IQR_ZH.append(q3-q1)\n",
    "    Vmin_ZH.append(q1-1.5*IQR_ZH[i])\n",
    "    Vmax_ZH.append(q3+1.5*IQR_ZH[i])\n",
    "print(IQR_ZH,Vmin_ZH,Vmax_ZH),stats_ZH"
   ]
  },
  {
   "cell_type": "code",
   "execution_count": 40,
   "metadata": {},
   "outputs": [
    {
     "data": {
      "text/html": [
       "<div>\n",
       "<style scoped>\n",
       "    .dataframe tbody tr th:only-of-type {\n",
       "        vertical-align: middle;\n",
       "    }\n",
       "\n",
       "    .dataframe tbody tr th {\n",
       "        vertical-align: top;\n",
       "    }\n",
       "\n",
       "    .dataframe thead th {\n",
       "        text-align: right;\n",
       "    }\n",
       "</style>\n",
       "<table border=\"1\" class=\"dataframe\">\n",
       "  <thead>\n",
       "    <tr style=\"text-align: right;\">\n",
       "      <th></th>\n",
       "      <th>#</th>\n",
       "      <th>dates</th>\n",
       "      <th>temperature_depth_1_C</th>\n",
       "      <th>temperature_depth_2_C</th>\n",
       "      <th>temperature_depth_3_C</th>\n",
       "      <th>temperature_depth_4_C</th>\n",
       "      <th>jour</th>\n",
       "    </tr>\n",
       "  </thead>\n",
       "  <tbody>\n",
       "    <tr>\n",
       "      <th>0</th>\n",
       "      <td>1</td>\n",
       "      <td>2016-06-27 12:00:00</td>\n",
       "      <td>13.810</td>\n",
       "      <td>13.834</td>\n",
       "      <td>13.858</td>\n",
       "      <td>13.810</td>\n",
       "      <td>27</td>\n",
       "    </tr>\n",
       "    <tr>\n",
       "      <th>1</th>\n",
       "      <td>2</td>\n",
       "      <td>2016-06-27 12:15:00</td>\n",
       "      <td>13.834</td>\n",
       "      <td>13.858</td>\n",
       "      <td>13.882</td>\n",
       "      <td>13.834</td>\n",
       "      <td>27</td>\n",
       "    </tr>\n",
       "    <tr>\n",
       "      <th>2</th>\n",
       "      <td>3</td>\n",
       "      <td>2016-06-27 12:30:00</td>\n",
       "      <td>13.930</td>\n",
       "      <td>13.954</td>\n",
       "      <td>14.050</td>\n",
       "      <td>14.002</td>\n",
       "      <td>27</td>\n",
       "    </tr>\n",
       "    <tr>\n",
       "      <th>3</th>\n",
       "      <td>4</td>\n",
       "      <td>2016-06-27 12:45:00</td>\n",
       "      <td>13.882</td>\n",
       "      <td>13.954</td>\n",
       "      <td>14.026</td>\n",
       "      <td>13.954</td>\n",
       "      <td>27</td>\n",
       "    </tr>\n",
       "    <tr>\n",
       "      <th>4</th>\n",
       "      <td>5</td>\n",
       "      <td>2016-06-27 13:00:00</td>\n",
       "      <td>13.858</td>\n",
       "      <td>13.930</td>\n",
       "      <td>14.026</td>\n",
       "      <td>13.954</td>\n",
       "      <td>27</td>\n",
       "    </tr>\n",
       "    <tr>\n",
       "      <th>...</th>\n",
       "      <td>...</td>\n",
       "      <td>...</td>\n",
       "      <td>...</td>\n",
       "      <td>...</td>\n",
       "      <td>...</td>\n",
       "      <td>...</td>\n",
       "      <td>...</td>\n",
       "    </tr>\n",
       "    <tr>\n",
       "      <th>1433</th>\n",
       "      <td>1434</td>\n",
       "      <td>2016-07-12 10:15:00</td>\n",
       "      <td>14.457</td>\n",
       "      <td>14.697</td>\n",
       "      <td>14.792</td>\n",
       "      <td>14.649</td>\n",
       "      <td>12</td>\n",
       "    </tr>\n",
       "    <tr>\n",
       "      <th>1434</th>\n",
       "      <td>1435</td>\n",
       "      <td>2016-07-12 10:30:00</td>\n",
       "      <td>15.008</td>\n",
       "      <td>14.792</td>\n",
       "      <td>14.816</td>\n",
       "      <td>14.649</td>\n",
       "      <td>12</td>\n",
       "    </tr>\n",
       "    <tr>\n",
       "      <th>1435</th>\n",
       "      <td>1436</td>\n",
       "      <td>2016-07-12 10:45:00</td>\n",
       "      <td>17.320</td>\n",
       "      <td>17.296</td>\n",
       "      <td>17.034</td>\n",
       "      <td>17.130</td>\n",
       "      <td>12</td>\n",
       "    </tr>\n",
       "    <tr>\n",
       "      <th>1436</th>\n",
       "      <td>1437</td>\n",
       "      <td>2016-07-12 10:49:31</td>\n",
       "      <td>NaN</td>\n",
       "      <td>NaN</td>\n",
       "      <td>NaN</td>\n",
       "      <td>NaN</td>\n",
       "      <td>12</td>\n",
       "    </tr>\n",
       "    <tr>\n",
       "      <th>1437</th>\n",
       "      <td>1438</td>\n",
       "      <td>2016-07-12 10:49:47</td>\n",
       "      <td>NaN</td>\n",
       "      <td>NaN</td>\n",
       "      <td>NaN</td>\n",
       "      <td>NaN</td>\n",
       "      <td>12</td>\n",
       "    </tr>\n",
       "  </tbody>\n",
       "</table>\n",
       "<p>1438 rows × 7 columns</p>\n",
       "</div>"
      ],
      "text/plain": [
       "         #               dates  temperature_depth_1_C  temperature_depth_2_C  \\\n",
       "0        1 2016-06-27 12:00:00                 13.810                 13.834   \n",
       "1        2 2016-06-27 12:15:00                 13.834                 13.858   \n",
       "2        3 2016-06-27 12:30:00                 13.930                 13.954   \n",
       "3        4 2016-06-27 12:45:00                 13.882                 13.954   \n",
       "4        5 2016-06-27 13:00:00                 13.858                 13.930   \n",
       "...    ...                 ...                    ...                    ...   \n",
       "1433  1434 2016-07-12 10:15:00                 14.457                 14.697   \n",
       "1434  1435 2016-07-12 10:30:00                 15.008                 14.792   \n",
       "1435  1436 2016-07-12 10:45:00                 17.320                 17.296   \n",
       "1436  1437 2016-07-12 10:49:31                    NaN                    NaN   \n",
       "1437  1438 2016-07-12 10:49:47                    NaN                    NaN   \n",
       "\n",
       "      temperature_depth_3_C  temperature_depth_4_C  jour  \n",
       "0                    13.858                 13.810    27  \n",
       "1                    13.882                 13.834    27  \n",
       "2                    14.050                 14.002    27  \n",
       "3                    14.026                 13.954    27  \n",
       "4                    14.026                 13.954    27  \n",
       "...                     ...                    ...   ...  \n",
       "1433                 14.792                 14.649    12  \n",
       "1434                 14.816                 14.649    12  \n",
       "1435                 17.034                 17.130    12  \n",
       "1436                    NaN                    NaN    12  \n",
       "1437                    NaN                    NaN    12  \n",
       "\n",
       "[1438 rows x 7 columns]"
      ]
     },
     "execution_count": 40,
     "metadata": {},
     "output_type": "execute_result"
    }
   ],
   "source": [
    "capteur_ZH"
   ]
  },
  {
   "cell_type": "code",
   "execution_count": 41,
   "metadata": {},
   "outputs": [
    {
     "name": "stdout",
     "output_type": "stream",
     "text": [
      "12.674499999999997 16.5985\n",
      "2\n",
      "13.093 15.773\n",
      "3\n",
      "13.3675 15.1875\n",
      "4\n",
      "13.413999999999998 14.662000000000003\n",
      "5\n"
     ]
    }
   ],
   "source": [
    "for (indice,colname) in enumerate(capteur_ZH):\n",
    "    if (indice>1 and (indice != p_ZH)) :#car les deux premières colonnes de capteur_ZH ne sont pas des floats, et on ne veut pas filtrer selon les jours\n",
    "        vmin,vmax=Vmin_ZH[indice-1],Vmax_ZH[indice-1]\n",
    "        print(vmin,vmax)\n",
    "        print(indice)\n",
    "        indexNames = capteur_ZH[capteur_ZH[colname] > vmax].index\n",
    "        capteur_ZH.drop(indexNames,inplace=True)\n",
    "        indexNames = capteur_ZH[capteur_ZH[colname] < vmin].index\n",
    "        capteur_ZH.drop(indexNames,inplace=True)\n"
   ]
  },
  {
   "cell_type": "code",
   "execution_count": 42,
   "metadata": {},
   "outputs": [
    {
     "data": {
      "text/html": [
       "<div>\n",
       "<style scoped>\n",
       "    .dataframe tbody tr th:only-of-type {\n",
       "        vertical-align: middle;\n",
       "    }\n",
       "\n",
       "    .dataframe tbody tr th {\n",
       "        vertical-align: top;\n",
       "    }\n",
       "\n",
       "    .dataframe thead th {\n",
       "        text-align: right;\n",
       "    }\n",
       "</style>\n",
       "<table border=\"1\" class=\"dataframe\">\n",
       "  <thead>\n",
       "    <tr style=\"text-align: right;\">\n",
       "      <th></th>\n",
       "      <th>#</th>\n",
       "      <th>dates</th>\n",
       "      <th>temperature_depth_1_C</th>\n",
       "      <th>temperature_depth_2_C</th>\n",
       "      <th>temperature_depth_3_C</th>\n",
       "      <th>temperature_depth_4_C</th>\n",
       "      <th>jour</th>\n",
       "    </tr>\n",
       "  </thead>\n",
       "  <tbody>\n",
       "    <tr>\n",
       "      <th>0</th>\n",
       "      <td>1</td>\n",
       "      <td>2016-06-27 12:00:00</td>\n",
       "      <td>13.810</td>\n",
       "      <td>13.834</td>\n",
       "      <td>13.858</td>\n",
       "      <td>13.810</td>\n",
       "      <td>27</td>\n",
       "    </tr>\n",
       "    <tr>\n",
       "      <th>1</th>\n",
       "      <td>2</td>\n",
       "      <td>2016-06-27 12:15:00</td>\n",
       "      <td>13.834</td>\n",
       "      <td>13.858</td>\n",
       "      <td>13.882</td>\n",
       "      <td>13.834</td>\n",
       "      <td>27</td>\n",
       "    </tr>\n",
       "    <tr>\n",
       "      <th>2</th>\n",
       "      <td>3</td>\n",
       "      <td>2016-06-27 12:30:00</td>\n",
       "      <td>13.930</td>\n",
       "      <td>13.954</td>\n",
       "      <td>14.050</td>\n",
       "      <td>14.002</td>\n",
       "      <td>27</td>\n",
       "    </tr>\n",
       "    <tr>\n",
       "      <th>3</th>\n",
       "      <td>4</td>\n",
       "      <td>2016-06-27 12:45:00</td>\n",
       "      <td>13.882</td>\n",
       "      <td>13.954</td>\n",
       "      <td>14.026</td>\n",
       "      <td>13.954</td>\n",
       "      <td>27</td>\n",
       "    </tr>\n",
       "    <tr>\n",
       "      <th>4</th>\n",
       "      <td>5</td>\n",
       "      <td>2016-06-27 13:00:00</td>\n",
       "      <td>13.858</td>\n",
       "      <td>13.930</td>\n",
       "      <td>14.026</td>\n",
       "      <td>13.954</td>\n",
       "      <td>27</td>\n",
       "    </tr>\n",
       "    <tr>\n",
       "      <th>...</th>\n",
       "      <td>...</td>\n",
       "      <td>...</td>\n",
       "      <td>...</td>\n",
       "      <td>...</td>\n",
       "      <td>...</td>\n",
       "      <td>...</td>\n",
       "      <td>...</td>\n",
       "    </tr>\n",
       "    <tr>\n",
       "      <th>1432</th>\n",
       "      <td>1433</td>\n",
       "      <td>2016-07-12 10:00:00</td>\n",
       "      <td>14.457</td>\n",
       "      <td>14.721</td>\n",
       "      <td>14.816</td>\n",
       "      <td>14.649</td>\n",
       "      <td>12</td>\n",
       "    </tr>\n",
       "    <tr>\n",
       "      <th>1433</th>\n",
       "      <td>1434</td>\n",
       "      <td>2016-07-12 10:15:00</td>\n",
       "      <td>14.457</td>\n",
       "      <td>14.697</td>\n",
       "      <td>14.792</td>\n",
       "      <td>14.649</td>\n",
       "      <td>12</td>\n",
       "    </tr>\n",
       "    <tr>\n",
       "      <th>1434</th>\n",
       "      <td>1435</td>\n",
       "      <td>2016-07-12 10:30:00</td>\n",
       "      <td>15.008</td>\n",
       "      <td>14.792</td>\n",
       "      <td>14.816</td>\n",
       "      <td>14.649</td>\n",
       "      <td>12</td>\n",
       "    </tr>\n",
       "    <tr>\n",
       "      <th>1436</th>\n",
       "      <td>1437</td>\n",
       "      <td>2016-07-12 10:49:31</td>\n",
       "      <td>NaN</td>\n",
       "      <td>NaN</td>\n",
       "      <td>NaN</td>\n",
       "      <td>NaN</td>\n",
       "      <td>12</td>\n",
       "    </tr>\n",
       "    <tr>\n",
       "      <th>1437</th>\n",
       "      <td>1438</td>\n",
       "      <td>2016-07-12 10:49:47</td>\n",
       "      <td>NaN</td>\n",
       "      <td>NaN</td>\n",
       "      <td>NaN</td>\n",
       "      <td>NaN</td>\n",
       "      <td>12</td>\n",
       "    </tr>\n",
       "  </tbody>\n",
       "</table>\n",
       "<p>1286 rows × 7 columns</p>\n",
       "</div>"
      ],
      "text/plain": [
       "         #               dates  temperature_depth_1_C  temperature_depth_2_C  \\\n",
       "0        1 2016-06-27 12:00:00                 13.810                 13.834   \n",
       "1        2 2016-06-27 12:15:00                 13.834                 13.858   \n",
       "2        3 2016-06-27 12:30:00                 13.930                 13.954   \n",
       "3        4 2016-06-27 12:45:00                 13.882                 13.954   \n",
       "4        5 2016-06-27 13:00:00                 13.858                 13.930   \n",
       "...    ...                 ...                    ...                    ...   \n",
       "1432  1433 2016-07-12 10:00:00                 14.457                 14.721   \n",
       "1433  1434 2016-07-12 10:15:00                 14.457                 14.697   \n",
       "1434  1435 2016-07-12 10:30:00                 15.008                 14.792   \n",
       "1436  1437 2016-07-12 10:49:31                    NaN                    NaN   \n",
       "1437  1438 2016-07-12 10:49:47                    NaN                    NaN   \n",
       "\n",
       "      temperature_depth_3_C  temperature_depth_4_C  jour  \n",
       "0                    13.858                 13.810    27  \n",
       "1                    13.882                 13.834    27  \n",
       "2                    14.050                 14.002    27  \n",
       "3                    14.026                 13.954    27  \n",
       "4                    14.026                 13.954    27  \n",
       "...                     ...                    ...   ...  \n",
       "1432                 14.816                 14.649    12  \n",
       "1433                 14.792                 14.649    12  \n",
       "1434                 14.816                 14.649    12  \n",
       "1436                    NaN                    NaN    12  \n",
       "1437                    NaN                    NaN    12  \n",
       "\n",
       "[1286 rows x 7 columns]"
      ]
     },
     "execution_count": 42,
     "metadata": {},
     "output_type": "execute_result"
    }
   ],
   "source": [
    "capteur_ZH"
   ]
  },
  {
   "cell_type": "markdown",
   "metadata": {},
   "source": [
    "### Résolution de la distribution asymétrique…\n",
    "\n",
    "A partir de nos données dans un histogramme, nous pouvons obtenir une distribution asymétrique des données. Une seule grande barre avec de minuscules barres à gauche ou à droite (ou les deux) est un signe révélateur que des valeurs aberrantes peuvent être présentes dans les données et cela signifie que notre bel histogramme, bien rangé et normalement distribué, est complètement caché et obscurci par le seul grand bar.\n",
    "\n",
    "\n",
    "Lorsque nous observons ce modèle, nous devons supprimer les valeurs aberrantes, puis voir à quoi ressemble la nouvelle distribution. Si nous voulons vérifier la présence de valeurs aberrantes, une boîte à moustaches rapide confirmera ou refusera…"
   ]
  },
  {
   "cell_type": "code",
   "execution_count": 44,
   "metadata": {},
   "outputs": [
    {
     "data": {
      "text/plain": [
       "(array([[<AxesSubplot:title={'center':'tension_V'}>,\n",
       "         <AxesSubplot:title={'center':'temperature_stream_C'}>],\n",
       "        [<AxesSubplot:title={'center':'charge_m'}>,\n",
       "         <AxesSubplot:title={'center':'jour'}>]], dtype=object),\n",
       " array([[<AxesSubplot:title={'center':'#'}>,\n",
       "         <AxesSubplot:title={'center':'temperature_depth_1_C'}>],\n",
       "        [<AxesSubplot:title={'center':'temperature_depth_2_C'}>,\n",
       "         <AxesSubplot:title={'center':'temperature_depth_3_C'}>],\n",
       "        [<AxesSubplot:title={'center':'temperature_depth_4_C'}>,\n",
       "         <AxesSubplot:title={'center':'jour'}>]], dtype=object))"
      ]
     },
     "execution_count": 44,
     "metadata": {},
     "output_type": "execute_result"
    },
    {
     "data": {
      "image/png": "[encoded data removed]",
      "text/plain": [
       "<Figure size 432x288 with 4 Axes>"
      ]
     },
     "metadata": {
      "needs_background": "light"
     },
     "output_type": "display_data"
    },
    {
     "data": {
      "image/png": "[encoded data removed]",
      "text/plain": [
       "<Figure size 432x288 with 6 Axes>"
      ]
     },
     "metadata": {
      "needs_background": "light"
     },
     "output_type": "display_data"
    }
   ],
   "source": [
    "capteur_riviere.hist(),capteur_ZH.hist()"
   ]
  },
  {
   "cell_type": "code",
   "execution_count": 45,
   "metadata": {},
   "outputs": [],
   "source": [
    "#honnêtement l'obersvation des graphes ne nous aide pas trop, ça ne nous fait pas conclure si c'est aberrant ou pas.Nous ne sommnes pas surs de juger correctement la notion de grande barre avec minuscules à côté. "
   ]
  },
  {
   "cell_type": "markdown",
   "metadata": {},
   "source": [
    "## Suppression des valeurs aberrantes et visualisation du résultat\n",
    "\n",
    "Après avoir fait tout le gros du travail dans les fonctions d'assistance, nous pouvons maintenant supprimer les lignes des données qui contiennent des valeurs aberrantes en dehors de | - et - | moustaches…\n",
    "\n"
   ]
  },
  {
   "cell_type": "code",
   "execution_count": 49,
   "metadata": {},
   "outputs": [],
   "source": [
    "liste_titre_riviere=['tension_V,','temperature_stream_C','charge_m']\n",
    "liste_titre_ZH=['temperature_depth_1_C','temperature_depth_2_C','temperature_depth_3_C','temperature_depth_4_C']"
   ]
  },
  {
   "cell_type": "code",
   "execution_count": 53,
   "metadata": {},
   "outputs": [
    {
     "name": "stdout",
     "output_type": "stream",
     "text": [
      "tension_V,\n"
     ]
    },
    {
     "ename": "KeyError",
     "evalue": "\"None of [Index(['tension_V,'], dtype='object')] are in the [columns]\"",
     "output_type": "error",
     "traceback": [
      "\u001b[1;31m---------------------------------------------------------------------------\u001b[0m",
      "\u001b[1;31mKeyError\u001b[0m                                  Traceback (most recent call last)",
      "\u001b[1;32m<ipython-input-53-e57dfe3d9399>\u001b[0m in \u001b[0;36m<module>\u001b[1;34m\u001b[0m\n\u001b[0;32m      1\u001b[0m \u001b[1;32mfor\u001b[0m \u001b[0mname\u001b[0m \u001b[1;32min\u001b[0m \u001b[0mliste_titre_riviere\u001b[0m \u001b[1;33m:\u001b[0m\u001b[1;33m\u001b[0m\u001b[1;33m\u001b[0m\u001b[0m\n\u001b[0;32m      2\u001b[0m     \u001b[0mprint\u001b[0m\u001b[1;33m(\u001b[0m\u001b[0mname\u001b[0m\u001b[1;33m)\u001b[0m\u001b[1;33m\u001b[0m\u001b[1;33m\u001b[0m\u001b[0m\n\u001b[1;32m----> 3\u001b[1;33m     \u001b[0mcapteur_riviere\u001b[0m\u001b[1;33m.\u001b[0m\u001b[0mboxplot\u001b[0m\u001b[1;33m(\u001b[0m\u001b[1;33m[\u001b[0m\u001b[0mname\u001b[0m\u001b[1;33m]\u001b[0m\u001b[1;33m)\u001b[0m\u001b[1;33m\u001b[0m\u001b[1;33m\u001b[0m\u001b[0m\n\u001b[0m\u001b[0;32m      4\u001b[0m \u001b[1;32mfor\u001b[0m \u001b[0mname\u001b[0m \u001b[1;32min\u001b[0m \u001b[0mliste_titre_ZH\u001b[0m \u001b[1;33m:\u001b[0m\u001b[1;33m\u001b[0m\u001b[1;33m\u001b[0m\u001b[0m\n\u001b[0;32m      5\u001b[0m     \u001b[0mprint\u001b[0m\u001b[1;33m(\u001b[0m\u001b[0mcapteur_ZH\u001b[0m\u001b[1;33m.\u001b[0m\u001b[0mboxplot\u001b[0m\u001b[1;33m(\u001b[0m\u001b[1;33m[\u001b[0m\u001b[0mname\u001b[0m\u001b[1;33m]\u001b[0m\u001b[1;33m)\u001b[0m\u001b[1;33m)\u001b[0m\u001b[1;33m\u001b[0m\u001b[1;33m\u001b[0m\u001b[0m\n",
      "\u001b[1;32mc:\\programdata\\miniconda3\\lib\\site-packages\\pandas\\plotting\\_core.py\u001b[0m in \u001b[0;36mboxplot_frame\u001b[1;34m(self, column, by, ax, fontsize, rot, grid, figsize, layout, return_type, backend, **kwargs)\u001b[0m\n\u001b[0;32m    492\u001b[0m ):\n\u001b[0;32m    493\u001b[0m     \u001b[0mplot_backend\u001b[0m \u001b[1;33m=\u001b[0m \u001b[0m_get_plot_backend\u001b[0m\u001b[1;33m(\u001b[0m\u001b[0mbackend\u001b[0m\u001b[1;33m)\u001b[0m\u001b[1;33m\u001b[0m\u001b[1;33m\u001b[0m\u001b[0m\n\u001b[1;32m--> 494\u001b[1;33m     return plot_backend.boxplot_frame(\n\u001b[0m\u001b[0;32m    495\u001b[0m         \u001b[0mself\u001b[0m\u001b[1;33m,\u001b[0m\u001b[1;33m\u001b[0m\u001b[1;33m\u001b[0m\u001b[0m\n\u001b[0;32m    496\u001b[0m         \u001b[0mcolumn\u001b[0m\u001b[1;33m=\u001b[0m\u001b[0mcolumn\u001b[0m\u001b[1;33m,\u001b[0m\u001b[1;33m\u001b[0m\u001b[1;33m\u001b[0m\u001b[0m\n",
      "\u001b[1;32mc:\\programdata\\miniconda3\\lib\\site-packages\\pandas\\plotting\\_matplotlib\\boxplot.py\u001b[0m in \u001b[0;36mboxplot_frame\u001b[1;34m(self, column, by, ax, fontsize, rot, grid, figsize, layout, return_type, **kwds)\u001b[0m\n\u001b[0;32m    378\u001b[0m     \u001b[1;32mimport\u001b[0m \u001b[0mmatplotlib\u001b[0m\u001b[1;33m.\u001b[0m\u001b[0mpyplot\u001b[0m \u001b[1;32mas\u001b[0m \u001b[0mplt\u001b[0m\u001b[1;33m\u001b[0m\u001b[1;33m\u001b[0m\u001b[0m\n\u001b[0;32m    379\u001b[0m \u001b[1;33m\u001b[0m\u001b[0m\n\u001b[1;32m--> 380\u001b[1;33m     ax = boxplot(\n\u001b[0m\u001b[0;32m    381\u001b[0m         \u001b[0mself\u001b[0m\u001b[1;33m,\u001b[0m\u001b[1;33m\u001b[0m\u001b[1;33m\u001b[0m\u001b[0m\n\u001b[0;32m    382\u001b[0m         \u001b[0mcolumn\u001b[0m\u001b[1;33m=\u001b[0m\u001b[0mcolumn\u001b[0m\u001b[1;33m,\u001b[0m\u001b[1;33m\u001b[0m\u001b[1;33m\u001b[0m\u001b[0m\n",
      "\u001b[1;32mc:\\programdata\\miniconda3\\lib\\site-packages\\pandas\\plotting\\_matplotlib\\boxplot.py\u001b[0m in \u001b[0;36mboxplot\u001b[1;34m(data, column, by, ax, fontsize, rot, grid, figsize, layout, return_type, **kwds)\u001b[0m\n\u001b[0;32m    355\u001b[0m             \u001b[0mcolumns\u001b[0m \u001b[1;33m=\u001b[0m \u001b[0mdata\u001b[0m\u001b[1;33m.\u001b[0m\u001b[0mcolumns\u001b[0m\u001b[1;33m\u001b[0m\u001b[1;33m\u001b[0m\u001b[0m\n\u001b[0;32m    356\u001b[0m         \u001b[1;32melse\u001b[0m\u001b[1;33m:\u001b[0m\u001b[1;33m\u001b[0m\u001b[1;33m\u001b[0m\u001b[0m\n\u001b[1;32m--> 357\u001b[1;33m             \u001b[0mdata\u001b[0m \u001b[1;33m=\u001b[0m \u001b[0mdata\u001b[0m\u001b[1;33m[\u001b[0m\u001b[0mcolumns\u001b[0m\u001b[1;33m]\u001b[0m\u001b[1;33m\u001b[0m\u001b[1;33m\u001b[0m\u001b[0m\n\u001b[0m\u001b[0;32m    358\u001b[0m \u001b[1;33m\u001b[0m\u001b[0m\n\u001b[0;32m    359\u001b[0m         \u001b[0mresult\u001b[0m \u001b[1;33m=\u001b[0m \u001b[0mplot_group\u001b[0m\u001b[1;33m(\u001b[0m\u001b[0mcolumns\u001b[0m\u001b[1;33m,\u001b[0m \u001b[0mdata\u001b[0m\u001b[1;33m.\u001b[0m\u001b[0mvalues\u001b[0m\u001b[1;33m.\u001b[0m\u001b[0mT\u001b[0m\u001b[1;33m,\u001b[0m \u001b[0max\u001b[0m\u001b[1;33m)\u001b[0m\u001b[1;33m\u001b[0m\u001b[1;33m\u001b[0m\u001b[0m\n",
      "\u001b[1;32mc:\\programdata\\miniconda3\\lib\\site-packages\\pandas\\core\\frame.py\u001b[0m in \u001b[0;36m__getitem__\u001b[1;34m(self, key)\u001b[0m\n\u001b[0;32m   2906\u001b[0m             \u001b[1;32mif\u001b[0m \u001b[0mis_iterator\u001b[0m\u001b[1;33m(\u001b[0m\u001b[0mkey\u001b[0m\u001b[1;33m)\u001b[0m\u001b[1;33m:\u001b[0m\u001b[1;33m\u001b[0m\u001b[1;33m\u001b[0m\u001b[0m\n\u001b[0;32m   2907\u001b[0m                 \u001b[0mkey\u001b[0m \u001b[1;33m=\u001b[0m \u001b[0mlist\u001b[0m\u001b[1;33m(\u001b[0m\u001b[0mkey\u001b[0m\u001b[1;33m)\u001b[0m\u001b[1;33m\u001b[0m\u001b[1;33m\u001b[0m\u001b[0m\n\u001b[1;32m-> 2908\u001b[1;33m             \u001b[0mindexer\u001b[0m \u001b[1;33m=\u001b[0m \u001b[0mself\u001b[0m\u001b[1;33m.\u001b[0m\u001b[0mloc\u001b[0m\u001b[1;33m.\u001b[0m\u001b[0m_get_listlike_indexer\u001b[0m\u001b[1;33m(\u001b[0m\u001b[0mkey\u001b[0m\u001b[1;33m,\u001b[0m \u001b[0maxis\u001b[0m\u001b[1;33m=\u001b[0m\u001b[1;36m1\u001b[0m\u001b[1;33m,\u001b[0m \u001b[0mraise_missing\u001b[0m\u001b[1;33m=\u001b[0m\u001b[1;32mTrue\u001b[0m\u001b[1;33m)\u001b[0m\u001b[1;33m[\u001b[0m\u001b[1;36m1\u001b[0m\u001b[1;33m]\u001b[0m\u001b[1;33m\u001b[0m\u001b[1;33m\u001b[0m\u001b[0m\n\u001b[0m\u001b[0;32m   2909\u001b[0m \u001b[1;33m\u001b[0m\u001b[0m\n\u001b[0;32m   2910\u001b[0m         \u001b[1;31m# take() does not accept boolean indexers\u001b[0m\u001b[1;33m\u001b[0m\u001b[1;33m\u001b[0m\u001b[1;33m\u001b[0m\u001b[0m\n",
      "\u001b[1;32mc:\\programdata\\miniconda3\\lib\\site-packages\\pandas\\core\\indexing.py\u001b[0m in \u001b[0;36m_get_listlike_indexer\u001b[1;34m(self, key, axis, raise_missing)\u001b[0m\n\u001b[0;32m   1252\u001b[0m             \u001b[0mkeyarr\u001b[0m\u001b[1;33m,\u001b[0m \u001b[0mindexer\u001b[0m\u001b[1;33m,\u001b[0m \u001b[0mnew_indexer\u001b[0m \u001b[1;33m=\u001b[0m \u001b[0max\u001b[0m\u001b[1;33m.\u001b[0m\u001b[0m_reindex_non_unique\u001b[0m\u001b[1;33m(\u001b[0m\u001b[0mkeyarr\u001b[0m\u001b[1;33m)\u001b[0m\u001b[1;33m\u001b[0m\u001b[1;33m\u001b[0m\u001b[0m\n\u001b[0;32m   1253\u001b[0m \u001b[1;33m\u001b[0m\u001b[0m\n\u001b[1;32m-> 1254\u001b[1;33m         \u001b[0mself\u001b[0m\u001b[1;33m.\u001b[0m\u001b[0m_validate_read_indexer\u001b[0m\u001b[1;33m(\u001b[0m\u001b[0mkeyarr\u001b[0m\u001b[1;33m,\u001b[0m \u001b[0mindexer\u001b[0m\u001b[1;33m,\u001b[0m \u001b[0maxis\u001b[0m\u001b[1;33m,\u001b[0m \u001b[0mraise_missing\u001b[0m\u001b[1;33m=\u001b[0m\u001b[0mraise_missing\u001b[0m\u001b[1;33m)\u001b[0m\u001b[1;33m\u001b[0m\u001b[1;33m\u001b[0m\u001b[0m\n\u001b[0m\u001b[0;32m   1255\u001b[0m         \u001b[1;32mreturn\u001b[0m \u001b[0mkeyarr\u001b[0m\u001b[1;33m,\u001b[0m \u001b[0mindexer\u001b[0m\u001b[1;33m\u001b[0m\u001b[1;33m\u001b[0m\u001b[0m\n\u001b[0;32m   1256\u001b[0m \u001b[1;33m\u001b[0m\u001b[0m\n",
      "\u001b[1;32mc:\\programdata\\miniconda3\\lib\\site-packages\\pandas\\core\\indexing.py\u001b[0m in \u001b[0;36m_validate_read_indexer\u001b[1;34m(self, key, indexer, axis, raise_missing)\u001b[0m\n\u001b[0;32m   1296\u001b[0m             \u001b[1;32mif\u001b[0m \u001b[0mmissing\u001b[0m \u001b[1;33m==\u001b[0m \u001b[0mlen\u001b[0m\u001b[1;33m(\u001b[0m\u001b[0mindexer\u001b[0m\u001b[1;33m)\u001b[0m\u001b[1;33m:\u001b[0m\u001b[1;33m\u001b[0m\u001b[1;33m\u001b[0m\u001b[0m\n\u001b[0;32m   1297\u001b[0m                 \u001b[0maxis_name\u001b[0m \u001b[1;33m=\u001b[0m \u001b[0mself\u001b[0m\u001b[1;33m.\u001b[0m\u001b[0mobj\u001b[0m\u001b[1;33m.\u001b[0m\u001b[0m_get_axis_name\u001b[0m\u001b[1;33m(\u001b[0m\u001b[0maxis\u001b[0m\u001b[1;33m)\u001b[0m\u001b[1;33m\u001b[0m\u001b[1;33m\u001b[0m\u001b[0m\n\u001b[1;32m-> 1298\u001b[1;33m                 \u001b[1;32mraise\u001b[0m \u001b[0mKeyError\u001b[0m\u001b[1;33m(\u001b[0m\u001b[1;34mf\"None of [{key}] are in the [{axis_name}]\"\u001b[0m\u001b[1;33m)\u001b[0m\u001b[1;33m\u001b[0m\u001b[1;33m\u001b[0m\u001b[0m\n\u001b[0m\u001b[0;32m   1299\u001b[0m \u001b[1;33m\u001b[0m\u001b[0m\n\u001b[0;32m   1300\u001b[0m             \u001b[1;31m# We (temporarily) allow for some missing keys with .loc, except in\u001b[0m\u001b[1;33m\u001b[0m\u001b[1;33m\u001b[0m\u001b[1;33m\u001b[0m\u001b[0m\n",
      "\u001b[1;31mKeyError\u001b[0m: \"None of [Index(['tension_V,'], dtype='object')] are in the [columns]\""
     ]
    },
    {
     "data": {
      "image/png": "[encoded data removed]",
      "text/plain": [
       "<Figure size 432x288 with 1 Axes>"
      ]
     },
     "metadata": {
      "needs_background": "light"
     },
     "output_type": "display_data"
    }
   ],
   "source": [
    "for name in liste_titre_riviere :\n",
    "    print(name)\n",
    "    capteur_riviere.boxplot([name])\n",
    "for name in liste_titre_ZH :\n",
    "    print(capteur_ZH.boxplot([name]))\n",
    "    #a corriger"
   ]
  },
  {
   "cell_type": "markdown",
   "metadata": {},
   "source": [
    "## Expliquez le résultat\n",
    "est ce que cette méthodologie vous semble suffisante? Tentez de trouver les limites de cette méthodologie?\n",
    "Que pouvez vous apportez aux fonctions afin de les améliorer?"
   ]
  },
  {
   "cell_type": "markdown",
   "metadata": {},
   "source": [
    "## Valeurs abérantes avec la méthode score Z \n",
    "Il s'agit d'une unité mesurée en écart-type. Fondamentalement, il s'agit d'une mesure de la distance entre le score brut et la moyenne. Il est compris entre -3 et +3, où 0 = moyenne et 1 = écart-type, c'est-à-dire une distribution normale.\n",
    "\n",
    "Cette méthode suggère qu'en tout point de données il existe une relation entre l'écart-type et la moyenne. Le score Z permet de trouver la distribution des données où la moyenne est égale à 0 et l'écart-type à 1, c'est-à-dire une distribution normale. Vous devez vous demander en quoi cela peut nous aider à identifier les valeurs aberrantes ? En calculant le score Z, nous redimensionnons et centrons les données et recherchons les points de données qui sont trop éloignés de zéro. Ces points de données qui sont trop éloignés de zéro seront traités comme des valeurs aberrantes. Dans la plupart des cas, un seuil de 3 ou -3 est utilisé, c'est-à-dire que si la valeur du score Z est supérieure ou inférieure à 3 ou -3 respectivement, ce point de données sera identifié comme aberrant.\n",
    "\n",
    "Formule pour le score Z = (Observation - Moyenne)/Écart-type\n",
    "\n",
    "z = (X - μ) / σ\n",
    "\n",
    "Ecrire des functions afin de pouvoir appliquer cette méthodologie aux données"
   ]
  },
  {
   "cell_type": "markdown",
   "metadata": {},
   "source": [
    "## Comparer les deux méthodologies, donner leurs avantages et leurs limitations\n",
    "Vous pouvez proposer des alternatives."
   ]
  },
  {
   "cell_type": "markdown",
   "metadata": {},
   "source": [
    "## Proposer une fonction permettant d'aller des données brutes jusqu'au premier traitement des données.\n",
    "\n",
    "N'oubliez pas de permettre à l'utilisateur de pouvoir prendre des décisions et de l'aider à prendre ces décisions\n",
    "Pensez à indiquer à l'utilisateur si le jeu de données est utilisable, quels sont les capteurs défaillant, quel semble être l'orientation des échanges nappe-rivière, les données de différence de charge semblent t'elles données les mêmes informations que les données du profils de température.\n",
    "\n",
    "Votre function doit prendre en entrée, les trois fichiers et proposer au fur et à mesure de son dérouler des propositions à l'utilisateur."
   ]
  },
  {
   "cell_type": "markdown",
   "metadata": {},
   "source": [
    "# Deux autres jeux de données sont disponibles sur le répertoire github.\n",
    "Votre rôle est de traiter et d'analyser ces données avec la méthodologie que vous avez développé"
   ]
  },
  {
   "cell_type": "code",
   "execution_count": null,
   "metadata": {},
   "outputs": [],
   "source": []
  },
  {
   "cell_type": "code",
   "execution_count": null,
   "metadata": {},
   "outputs": [],
   "source": []
  }
 ],
 "metadata": {
  "kernelspec": {
   "display_name": "Python 3",
   "language": "python",
   "name": "python3"
  },
  "language_info": {
   "codemirror_mode": {
    "name": "ipython",
    "version": 3
   },
   "file_extension": ".py",
   "mimetype": "text/x-python",
   "name": "python",
   "nbconvert_exporter": "python",
   "pygments_lexer": "ipython3",
   "version": "3.8.3"
  }
 },
 "nbformat": 4,
 "nbformat_minor": 4
}
