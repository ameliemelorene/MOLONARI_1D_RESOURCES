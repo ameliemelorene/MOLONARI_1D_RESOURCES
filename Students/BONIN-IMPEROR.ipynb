{
 "cells": [
  {
   "cell_type": "markdown",
   "metadata": {
    "_cell_guid": "5cd5061f-ae30-4837-a53b-690ffd5c5830",
    "_uuid": "9d82bf13584b8e682962fbb96131f2447d741679"
   },
   "source": [
    "# Mettre en place notre environnement\n",
    "________\n",
    "\n",
    "La première chose que nous devons faire est de charger les bibliothèques et les ensembles de données que nous allons utiliser. Pour aujourd'hui, nous allons travailler avec deux ensembles de données : un contenant des chroniques de température dans le lit de la rivière (zone hyporhéique), et un autre contenant des les chroniques de différence de charge enregistré en **Volt**.\n",
    "\n",
    "**Important!** Assurez-vous d'exécuter cette cellule vous-même ou le reste de votre code ne fonctionnera pas"
   ]
  },
  {
   "cell_type": "code",
   "execution_count": 56,
   "metadata": {},
   "outputs": [
    {
     "data": {
      "text/plain": [
       "WindowsPath('C:/Users/33681/Documents/2A/MOLONARI/MOLONARI_1D_RESOURCES/Students')"
      ]
     },
     "execution_count": 56,
     "metadata": {},
     "output_type": "execute_result"
    }
   ],
   "source": [
    "import pathlib\n",
    "pathlib.Path('BONIN-IMPEROR.ipynb').parent.resolve()"
   ]
  },
  {
   "cell_type": "code",
   "execution_count": 57,
   "metadata": {
    "_cell_guid": "135a7804-b5f5-40aa-8657-4a15774e3666",
    "_uuid": "835cbe0834b935fb0fd40c75b9c39454836f4d5f",
    "jupyter": {
     "outputs_hidden": true
    }
   },
   "outputs": [],
   "source": [
    "# modules\n",
    "import pandas as pd\n",
    "import numpy as np\n",
    "import matplotlib.pyplot as plt\n",
    "import seaborn as sns\n",
    "import datetime\n",
    "\n",
    "from copy import deepcopy\n",
    "import matplotlib.gridspec as gs\n",
    "\n",
    "# read in our data\n",
    "capteur_riviere = pd.read_csv(\"C:/Users/33681/Documents/2A/MOLONARI/MOLONARI_1D_RESOURCES/sampling_points/Point034/point034_P_measures.csv\")\n",
    "capteur_ZH = pd.read_csv(\"C:/Users/33681/Documents/2A/MOLONARI/MOLONARI_1D_RESOURCES/sampling_points/Point034/point034_T_measures.csv\")\n",
    "etalonage_capteur_riv = pd.read_csv(\"C:/Users/33681/Documents/2A/MOLONARI/MOLONARI_1D_RESOURCES/configuration/pressure_sensors/P508.csv\")\n",
    "\n",
    "# set seed for reproducibility\n",
    "np.random.seed(0)"
   ]
  },
  {
   "cell_type": "markdown",
   "metadata": {
    "_cell_guid": "604ac3a4-b1d9-4264-b312-4bbeecdeec00",
    "_uuid": "03ce3b4afe87d98f777172c2c7be066a66a0b237"
   },
   "source": [
    "Nous sommes maintenant prêts à examiner quelques dates ! (Si vous le souhaitez, vous pouvez profiter de cette occasion pour jeter un coup d'œil à certaines des données)."
   ]
  },
  {
   "cell_type": "markdown",
   "metadata": {},
   "source": [
    "# Imprimez le noms des colonnes\n",
    "renommer les colonnes du fichier capteur_riviere :  \tdates,tension_V,temperature_stream_C et celles du fichier capteur_ZH  :\n",
    "#,dates,temperature_depth_1_C,temperature_depth_2_C,temperature_depth_3_C,temperature_depth_4_C\n",
    "\n"
   ]
  },
  {
   "cell_type": "code",
   "execution_count": 58,
   "metadata": {},
   "outputs": [],
   "source": [
    "#capteur_riviere.columns\n",
    "#capteur_riviere.head()\n",
    "capteur_riviere.columns=['Titre de tracé : point_montberneux', 'dates', 'tension_V','temperature_stream_C', 'Unnamed: 4', 'Unnamed: 5', 'Unnamed: 6']\n",
    "capteur_riviere=capteur_riviere.drop(columns=['Unnamed: 4','Unnamed: 5','Unnamed: 6'])"
   ]
  },
  {
   "cell_type": "code",
   "execution_count": 59,
   "metadata": {},
   "outputs": [],
   "source": [
    "#capteur_ZH.columns\n",
    "capteur_ZH.columns=['#','dates','temperature_depth_1_C','temperature_depth_2_C','temperature_depth_3_C','temperature_depth_4_C','a','b','c']\n",
    "capteur_ZH=capteur_ZH.drop(columns=['a','b','c'])"
   ]
  },
  {
   "cell_type": "markdown",
   "metadata": {},
   "source": [
    "# Transformez les données de différence de charge en mètres\n",
    "\n"
   ]
  },
  {
   "cell_type": "code",
   "execution_count": 60,
   "metadata": {},
   "outputs": [],
   "source": [
    "#il s'agit de convertir les volts de la colonne tension en mètres, on notera subtilement que ces grandeurs n'étant pas homogènes il y a une formule du cours à utiliser\n",
    "\n",
    "#voir le fichier info\n",
    "#on a utilisé le capteur de pression p508, on utilise les coefficients liés à ce capteur\n",
    "#on a donc l'ordonnée à l'origine et les coordonnées des courbes\n",
    "dU_dH=-1.462495\n",
    "dU_dT=0.001474\n",
    "Intercept=1.210344\n",
    "#la colonne température du tableau est déjà une différence de température!"
   ]
  },
  {
   "cell_type": "markdown",
   "metadata": {},
   "source": [
    "$dU=Intercept+ dH\\times\\frac{dU}{dH}+ dT\\times\\frac{dU}{dT}$<br>\n",
    "On inverse la relation : <br>\n",
    "$dH = \\frac{dU - dT\\times\\frac{dU}{dT} -Intercept }{ \\frac{dU}{dH}}$"
   ]
  },
  {
   "cell_type": "code",
   "execution_count": 61,
   "metadata": {},
   "outputs": [],
   "source": [
    "#on va : rajouter une colonne, lui mettre la formule de calcul dedans\n",
    "capteur_riviere=capteur_riviere.assign(charge_m=1)\n",
    "capteur_riviere['tension_V']=pd.to_numeric(capteur_riviere['tension_V'], errors  ='coerce')\n",
    "capteur_riviere['temperature_stream_C']=pd.to_numeric(capteur_riviere['temperature_stream_C'], errors  ='coerce')\n",
    "capteur_riviere['charge_m']=(1/dU_dH)*(capteur_riviere['tension_V']-capteur_riviere['temperature_stream_C']*dU_dT-Intercept)"
   ]
  },
  {
   "cell_type": "markdown",
   "metadata": {
    "_cell_guid": "9b87a77d-e5e5-4581-9cd3-0e7339fe1516",
    "_uuid": "742028572a307a42ce40db0102171bc219b05282"
   },
   "source": [
    "# Traitement des dates\n",
    "## Vérifiez le type de données de notre colonne de date\n",
    "___\n",
    "\n",
    "Imprimer les dates des deux fichiers"
   ]
  },
  {
   "cell_type": "code",
   "execution_count": 62,
   "metadata": {
    "_cell_guid": "e6b7eb39-c3e3-40a1-b0a5-91cfcd2d42da",
    "_uuid": "93a08de7a6a621e4b07968c07c1cc612936c6027",
    "jupyter": {
     "outputs_hidden": true
    }
   },
   "outputs": [
    {
     "data": {
      "text/plain": [
       "0       Date Heure, GMT+01:00\n",
       "1        06/27/16 12:00:00 PM\n",
       "2        06/27/16 12:15:00 PM\n",
       "3        06/27/16 12:30:00 PM\n",
       "4        06/27/16 12:45:00 PM\n",
       "                ...          \n",
       "1456         07/12/2016 15:45\n",
       "1457         07/12/2016 16:00\n",
       "1458         07/12/2016 16:15\n",
       "1459         07/12/2016 16:30\n",
       "1460         07/12/2016 16:45\n",
       "Name: dates, Length: 1461, dtype: object"
      ]
     },
     "execution_count": 62,
     "metadata": {},
     "output_type": "execute_result"
    }
   ],
   "source": [
    "capteur_riviere['dates']"
   ]
  },
  {
   "cell_type": "code",
   "execution_count": 63,
   "metadata": {},
   "outputs": [
    {
     "data": {
      "text/plain": [
       "0       06/27/16 12:00:00 PM\n",
       "1       06/27/16 12:15:00 PM\n",
       "2       06/27/16 12:30:00 PM\n",
       "3       06/27/16 12:45:00 PM\n",
       "4       06/27/16 01:00:00 PM\n",
       "                ...         \n",
       "1433    07/12/16 10:15:00 AM\n",
       "1434    07/12/16 10:30:00 AM\n",
       "1435    07/12/16 10:45:00 AM\n",
       "1436    07/12/16 10:49:31 AM\n",
       "1437    07/12/16 10:49:47 AM\n",
       "Name: dates, Length: 1438, dtype: object"
      ]
     },
     "execution_count": 63,
     "metadata": {},
     "output_type": "execute_result"
    }
   ],
   "source": [
    "capteur_ZH['dates']"
   ]
  },
  {
   "cell_type": "markdown",
   "metadata": {
    "_cell_guid": "dbdacb7c-10d4-4b0a-8f6b-6d4a940ca446",
    "_uuid": "d88dbc08ab145fd20f86073b027c53f40fd306bc"
   },
   "source": [
    "Remarquez qu'en bas de la sortie de `head()`, vous pouvez voir qu'il est dit que le type de données de cette colonne est \"object\". \n",
    "\n",
    "> Pandas utilise le dtype \"object\" pour stocker différents types de données, mais le plus souvent, lorsque vous voyez une colonne avec le dtype \"object\", elle contient des chaînes de caractères. \n",
    "\n",
    "Si vous consultez la documentation sur le dtype de Pandas [ici] (http://pandas.pydata.org/pandas-docs/stable/basics.html#dtypes), vous remarquerez qu'il existe également un dtype spécifique `datetime64`. Comme le dtype de notre colonne est `object` plutôt que `datetime64`, nous pouvons dire que Python ne sait pas que cette colonne contient des dates.\n",
    "\n",
    "Nous pouvons aussi regarder uniquement le dtype de votre colonne sans imprimer les premières lignes si nous le souhaitons :"
   ]
  },
  {
   "cell_type": "code",
   "execution_count": 64,
   "metadata": {
    "_cell_guid": "56a047f4-cbf7-4914-951c-a04310ee7432",
    "_uuid": "e2ab2ac80aaac7b165b3af64edb75d29f2612482",
    "jupyter": {
     "outputs_hidden": true
    }
   },
   "outputs": [],
   "source": [
    "# check the data type of our date column\n"
   ]
  },
  {
   "cell_type": "code",
   "execution_count": 65,
   "metadata": {},
   "outputs": [
    {
     "name": "stdout",
     "output_type": "stream",
     "text": [
      "object object\n"
     ]
    }
   ],
   "source": [
    "print(capteur_ZH.dates.dtype,\n",
    "capteur_riviere.dates.dtype)"
   ]
  },
  {
   "cell_type": "markdown",
   "metadata": {
    "_cell_guid": "99a207db-3db0-4343-9805-58753f51f6e8",
    "_uuid": "06e6483764014a04e7a1f34525e2f12aee5fdab8"
   },
   "source": [
    "You may have to check the [numpy documentation](https://docs.scipy.org/doc/numpy-1.12.0/reference/generated/numpy.dtype.kind.html#numpy.dtype.kind) to match the letter code to the dtype of the object. \"O\" is the code for \"object\", so we can see that these two methods give us the same information."
   ]
  },
  {
   "cell_type": "markdown",
   "metadata": {
    "_cell_guid": "fb3b552b-411b-4fc0-b1e6-a3a8156fd459",
    "_uuid": "0939ce269aef7001e35cc8f2a5f1eed1f6160940"
   },
   "source": [
    "## Convertir nos colonnes de date en datetime\n",
    "___\n",
    "\n",
    "Maintenant que nous savons que notre colonne de date n'est pas reconnue comme une date, il est temps de la convertir pour qu'elle soit reconnue comme une date. Cette opération est appelée \"analyse syntaxique des dates\" car nous prenons une chaîne de caractères et identifions ses composants. Nous allons utiliser la fonction pd.to_datetime.\n",
    "\n",
    "Nous pouvons indiquer à pandas le format de nos dates à l'aide d'un guide appelé [\"strftime directive\", sur lequel vous trouverez plus d'informations à ce lien] (http://strftime.org/). L'idée de base est que vous devez indiquer quelles parties de la date se trouvent où et quelle ponctuation se trouve entre elles. Il existe [de nombreuses parties possibles d'une date](http://strftime.org/), mais les plus courantes sont `%d` pour le jour, `%m` pour le mois, `%y` pour une année à deux chiffres et `%Y` pour une année à quatre chiffres.\n",
    "\n",
    "Quelques exemples :\n",
    "\n",
    " * Le 17 janvier 2007 a le format \"%m/%d/%y\".\n",
    " * 17-1-2007 a le format \"%d-%m-%Y\".\n",
    " "
   ]
  },
  {
   "cell_type": "code",
   "execution_count": 66,
   "metadata": {
    "_cell_guid": "f955aa17-ede7-4457-a913-ba1c44f8846d",
    "_uuid": "a471aae50241b245caa0c60fbb19821372682b76",
    "jupyter": {
     "outputs_hidden": true
    }
   },
   "outputs": [],
   "source": [
    "capteur_riviere['dates'] = pd.to_datetime(capteur_riviere['dates'], infer_datetime_format=True, errors='coerce')"
   ]
  },
  {
   "cell_type": "markdown",
   "metadata": {
    "_cell_guid": "7bd8f8b6-8a60-4a12-b94b-4100188845da",
    "_uuid": "fc95b22f0f4d7a6bc0cb1a7cc55abfb204cc81f9"
   },
   "source": [
    "Maintenant que nos dates sont analysées correctement, nous pouvons travailler avec celles-ci.\n",
    "\n",
    "___\n",
    "* Bien que nous spécifions le format de la date ici, il arrive parfois que vous rencontriez une erreur lorsque plusieurs formats de date sont présents dans une même colonne. Dans ce cas, vous pouvez demander à pandas de déduire le bon format de date. Vous pouvez le faire comme suit :\n",
    "\n",
    "`capteur_riviere['date'] = pd.to_datetime(capteur_riviere['date'], infer_datetime_format=True)``\n",
    "\n",
    "**Pourquoi ne pas toujours utiliser `infer_datetime_format = True?`** Il y a deux grandes raisons de ne pas toujours faire deviner à pandas le format de l'heure. La première est que pandas n'est toujours capable de trouver le bon format de date, surtout si quelqu'un a fait preuve de créativité dans la saisie des données. La seconde est que c'est beaucoup plus lent que de spécifier le format exact des dates.\n",
    "____"
   ]
  },
  {
   "cell_type": "code",
   "execution_count": 67,
   "metadata": {},
   "outputs": [],
   "source": [
    "capteur_ZH['dates'] = pd.to_datetime(capteur_ZH['dates'], infer_datetime_format=True, errors='coerce')"
   ]
  },
  {
   "cell_type": "markdown",
   "metadata": {
    "_cell_guid": "fe33df7d-c85d-4b61-b572-5682e6eea81b",
    "_uuid": "a2cec7b480ef13c070d40ca0e0763d2d30a86a9c"
   },
   "source": [
    "## Tracer le jour du mois pour vérifier l'analyse de la date\n",
    "___\n",
    "\n",
    "L'un des plus grands dangers de l'analyse des dates est de mélanger les mois et les jours. La fonction to_datetime() a des messages d'erreur très utiles, mais il n'est pas inutile de vérifier que les jours du mois que nous avons extraits ont un sens. \n",
    "\n",
    "Pour ce faire, nous allons tracer un histogramme des jours du mois. Nous nous attendons à ce qu'il ait des valeurs entre 1 et 31 et, puisqu'il n'y a aucune raison de supposer que les glissements de terrain sont plus fréquents certains jours du mois que d'autres, une distribution relativement égale. (Avec un creux sur 31 car tous les mois n'ont pas 31 jours.) "
   ]
  },
  {
   "cell_type": "code",
   "execution_count": 68,
   "metadata": {
    "_cell_guid": "49feb18f-c077-474e-9353-a24ae850acf6",
    "_uuid": "d3d5a143d3d49e10187e420abfe9cfe18c7bac56",
    "jupyter": {
     "outputs_hidden": true
    },
    "scrolled": true
   },
   "outputs": [
    {
     "data": {
      "text/plain": [
       "array([[<AxesSubplot:title={'center':'jour'}>]], dtype=object)"
      ]
     },
     "execution_count": 68,
     "metadata": {},
     "output_type": "execute_result"
    },
    {
     "data": {
      "image/png": "[encoded data removed]",
      "text/plain": [
       "<Figure size 432x288 with 1 Axes>"
      ]
     },
     "metadata": {
      "needs_background": "light"
     },
     "output_type": "display_data"
    }
   ],
   "source": [
    "capteur_riviere['jour'] = capteur_riviere['dates'].apply(lambda x: x.day)\n",
    "capteur_riviere.hist(column = ['jour'],bins=31)\n",
    "#capteur_riviere.head()"
   ]
  },
  {
   "cell_type": "code",
   "execution_count": 69,
   "metadata": {},
   "outputs": [
    {
     "data": {
      "text/plain": [
       "array([[<AxesSubplot:title={'center':'jour'}>]], dtype=object)"
      ]
     },
     "execution_count": 69,
     "metadata": {},
     "output_type": "execute_result"
    },
    {
     "data": {
      "image/png": "[encoded data removed]",
      "text/plain": [
       "<Figure size 432x288 with 1 Axes>"
      ]
     },
     "metadata": {
      "needs_background": "light"
     },
     "output_type": "display_data"
    }
   ],
   "source": [
    "capteur_ZH['jour'] = capteur_ZH['dates'].apply(lambda x: x.day)\n",
    "capteur_ZH.hist(column = ['jour'],bins=31)\n",
    "#capteur_ZH.head()"
   ]
  },
  {
   "cell_type": "markdown",
   "metadata": {},
   "source": [
    "on a pris des mesures du 26 juin au 12 juillet, il est donc normal d'observer un tel creux dans l'histogramme"
   ]
  },
  {
   "cell_type": "markdown",
   "metadata": {},
   "source": [
    "# Valeurs aberrantes\n",
    "\n",
    "L'un des plus grands défis du nettoyage des données est l'identification et le traitement des valeurs aberrantes. En termes simples, les valeurs aberrantes sont des observations qui sont significativement différentes des autres points de données. Même les meilleurs algorithmes d'estimation des paramètres automatique seront moins performants si les observations aberrantes ne sont pas nettoyées des données, car elles impliquent des simulations obsolètes des variables.\n",
    "\n"
   ]
  },
  {
   "cell_type": "markdown",
   "metadata": {},
   "source": [
    "Nous mettons ici plusieurs fonctions et cellules à éxécuter afin de pouvoir appliquer le tri par écart  interquartile et par score Z."
   ]
  },
  {
   "cell_type": "code",
   "execution_count": 71,
   "metadata": {},
   "outputs": [],
   "source": [
    "liste_titre_riviere=['tension_V','temperature_stream_C','charge_m']\n",
    "liste_titre_ZH=['temperature_depth_1_C','temperature_depth_2_C','temperature_depth_3_C','temperature_depth_4_C']"
   ]
  },
  {
   "cell_type": "code",
   "execution_count": 72,
   "metadata": {},
   "outputs": [],
   "source": [
    "def affiche_moustache():#capteur_riviere.boxplot(['tension_V'])#on peut tracer ainsi toutes les boites pour les deux tableaux\n",
    "    fig,ax\n",
    "    plt.title('Diagramme à moustaches des données étudiées')\n",
    "    a=245\n",
    "    b=241\n",
    "    for name in liste_titre_riviere :\n",
    "        plt.subplot(a)\n",
    "        a+=1\n",
    "        capteur_riviere.boxplot([name])\n",
    "    for name in liste_titre_ZH :\n",
    "        plt.subplot(b)\n",
    "        b+=1\n",
    "        capteur_ZH.boxplot([name])\n",
    "    plt.show()\n"
   ]
  },
  {
   "cell_type": "code",
   "execution_count": 74,
   "metadata": {},
   "outputs": [],
   "source": [
    "def affiche_scatterplot():#affichage des liens entre les différentes variables de température\n",
    "    for i in range(1,4):\n",
    "        for j in range(i+1,5):\n",
    "            plt.subplot(3,3,3*(j-2)+i)\n",
    "            plt.title(f'{i},{j}')\n",
    "            plt.scatter(capteur_ZH[f'temperature_depth_{i}_C'],capteur_ZH[f'temperature_depth_{j}_C'])\n"
   ]
  },
  {
   "cell_type": "markdown",
   "metadata": {},
   "source": []
  },
  {
   "cell_type": "code",
   "execution_count": 106,
   "metadata": {},
   "outputs": [],
   "source": [
    "def affiche_tout(capteur_riviere,capteur_ZH):\n",
    "\n",
    "    fig = plt.figure(figsize=(30,6))\n",
    "    grid = gs.GridSpec(3, 8,height_ratios=[3,1,1]) \n",
    "    for i, g in enumerate(liste_titre_riviere+liste_titre_ZH):\n",
    "        if i<3:\n",
    "            subset = capteur_riviere[g]\n",
    "        else:\n",
    "            subset = capteur_ZH[g]\n",
    "    \n",
    "        # Histogram\n",
    "        ax = fig.add_subplot(grid[:2,i])\n",
    "        ax.hist(list(subset), color='k', alpha=0.4)\n",
    "        ax.set_title(\"Statistiques de \"+g)\n",
    "    \n",
    "        # Box plot\n",
    "        ax2 = fig.add_subplot(grid[2,i])\n",
    "        pd.DataFrame(subset).boxplot(vert=False, return_type='axes')\n",
    "        ax2.set_yticklabels([''])\n",
    "\n",
    "    fig.tight_layout()\n",
    "    fig.subplots_adjust(top=0.85)\n",
    "    fig.suptitle(f'Affichage des statistiques', fontsize=20)\n",
    "\n",
    "    None # Don't display the last thing -- `%matplotlib inline` will display the graphs no matter what.\n"
   ]
  },
  {
   "cell_type": "markdown",
   "metadata": {},
   "source": [
    "## Tracez les graphiques de distribution pour les différentes variables"
   ]
  },
  {
   "cell_type": "markdown",
   "metadata": {},
   "source": [
    "Nous avons supprimé les cellules explicatives par souci d'esthétique du Notebook, les différents types de graphique seront utilisés pour la comparaison des méthodes."
   ]
  },
  {
   "cell_type": "markdown",
   "metadata": {},
   "source": [
    "## Identification des valeurs aberrantes avec l'écart interquartile (IQR)\n",
    "\n",
    "L'écart interquartile (IQR) est une mesure de la dispersion statistique et est calculé comme la différence entre les 75e et 25e percentiles. Il est représenté par la formule IQR = Q3 - Q1. Les  lignes de code ci-dessous calculent et impriment l'écart interquartile pour chacune des variables de l'ensemble de données.  La règle générale est que tout ce qui n'est pas dans la plage de (Q1 - 1,5 IQR) et (Q3 + 1,5 IQR) est une valeur aberrante et peut être supprimé.\n"
   ]
  },
  {
   "cell_type": "code",
   "execution_count": 21,
   "metadata": {},
   "outputs": [],
   "source": [
    "#ces deux tris suppriment du tableau les valeurs hors de la plage Q1-1.5*IQR, Q3+1.5*IQR\n",
    "def tri_IQR_riviere(capteur_riviere):\n",
    "    new_capteur_riviere=deepcopy(capteur_riviere)\n",
    "    stats_riviere=new_capteur_riviere.describe()\n",
    "    n,p_riviere=stats_riviere.shape\n",
    "    IQR=[]\n",
    "    Vmin=[]\n",
    "    Vmax=[]\n",
    "    for i in range(p_riviere):\n",
    "        q1=stats_riviere.iloc[4,i]#q1 sur ligne 4\n",
    "        q3=stats_riviere.iloc[6,i]#q3 sur ligne 6\n",
    "        IQR.append(q3-q1)\n",
    "        Vmin.append(q1-1.5*IQR[i])\n",
    "        Vmax.append(q3+1.5*IQR[i])\n",
    "        \n",
    "    for (indice,colname) in enumerate(new_capteur_riviere):\n",
    "        if (indice>1 and (indice != p_riviere-1)) :#car les deux premières colonnes de capteur_riviere ne sont pas des floats, et on ne veut pas filtrer selon les jours\n",
    "            vmin,vmax=Vmin[indice-2],Vmax[indice-2]\n",
    "    \n",
    "            indexNames = new_capteur_riviere[new_capteur_riviere[colname] > vmax].index\n",
    "            new_capteur_riviere.drop(indexNames,inplace=True)\n",
    "            indexNames = new_capteur_riviere[new_capteur_riviere[colname] < vmin].index\n",
    "            new_capteur_riviere.drop(indexNames,inplace=True)\n",
    "\n",
    "    return new_capteur_riviere\n",
    "  \n",
    "def tri_IQR_riviere_inplace(capteur_riviere):\n",
    "    stats_riviere=capteur_riviere.describe()\n",
    "    n,p_riviere=stats_riviere.shape\n",
    "    IQR=[]\n",
    "    Vmin=[]\n",
    "    Vmax=[]\n",
    "    for i in range(p_riviere):\n",
    "        q1=stats_riviere.iloc[4,i]#q1 sur ligne 4\n",
    "        q3=stats_riviere.iloc[6,i]#q3 sur ligne 6\n",
    "        IQR.append(q3-q1)\n",
    "        Vmin.append(q1-1.5*IQR[i])\n",
    "        Vmax.append(q3+1.5*IQR[i])\n",
    "        \n",
    "    for (indice,colname) in enumerate(capteur_riviere):\n",
    "        if (indice>1 and (indice != p_riviere-1)) :#car les deux premières colonnes de capteur_riviere ne sont pas des floats, et on ne veut pas filtrer selon les jours\n",
    "            vmin,vmax=Vmin[indice-2],Vmax[indice-2]\n",
    "    \n",
    "            indexNames = capteur_riviere[capteur_riviere[colname] > vmax].index\n",
    "            capteur_riviere.drop(indexNames,inplace=True)\n",
    "            indexNames = capteur_riviere[capteur_riviere[colname] < vmin].index\n",
    "            capteur_riviere.drop(indexNames,inplace=True)\n"
   ]
  },
  {
   "cell_type": "code",
   "execution_count": 22,
   "metadata": {},
   "outputs": [],
   "source": [
    "def tri_IQR_ZH_inplace(capteur_ZH):\n",
    "    stats_ZH=capteur_ZH.describe()\n",
    "    n,p_ZH=stats_ZH.shape\n",
    "    IQR_ZH=[]\n",
    "    Vmin_ZH=[]\n",
    "    Vmax_ZH=[]\n",
    "    for i in range(p_ZH):\n",
    "        q1=stats_ZH.iloc[4,i]\n",
    "        q3=stats_ZH.iloc[6,i]\n",
    "        IQR_ZH.append(q3-q1)\n",
    "        Vmin_ZH.append(q1-1.5*IQR_ZH[i])\n",
    "        Vmax_ZH.append(q3+1.5*IQR_ZH[i])\n",
    "\n",
    "    for (indice,colname) in enumerate(capteur_ZH):\n",
    "        if (indice>1 and (indice != p_ZH)) :#car les deux premières colonnes de capteur_ZH ne sont pas des floats, et on ne veut pas filtrer selon les jours\n",
    "            vmin,vmax=Vmin_ZH[indice-1],Vmax_ZH[indice-1]\n",
    "       \n",
    "            indexNames = capteur_ZH[capteur_ZH[colname] > vmax].index\n",
    "            capteur_ZH.drop(indexNames,inplace=True)\n",
    "            indexNames = capteur_ZH[capteur_ZH[colname] < vmin].index\n",
    "            capteur_ZH.drop(indexNames,inplace=True)\n",
    "            \n",
    "def tri_IQR_ZH(capteur_ZH):\n",
    "    new_capteur_ZH=deepcopy(capteur_ZH)\n",
    "    stats_ZH=new_capteur_ZH.describe()\n",
    "    n,p_ZH=stats_ZH.shape\n",
    "    IQR_ZH=[]\n",
    "    Vmin_ZH=[]\n",
    "    Vmax_ZH=[]\n",
    "    for i in range(p_ZH):\n",
    "        q1=stats_ZH.iloc[4,i]\n",
    "        q3=stats_ZH.iloc[6,i]\n",
    "        IQR_ZH.append(q3-q1)\n",
    "        Vmin_ZH.append(q1-1.5*IQR_ZH[i])\n",
    "        Vmax_ZH.append(q3+1.5*IQR_ZH[i])\n",
    "\n",
    "    for (indice,colname) in enumerate(new_capteur_ZH):\n",
    "        if (indice>1 and (indice != p_ZH)) :#car les deux premières colonnes de capteur_ZH ne sont pas des floats, et on ne veut pas filtrer selon les jours\n",
    "            vmin,vmax=Vmin_ZH[indice-1],Vmax_ZH[indice-1]\n",
    "       \n",
    "            indexNames = new_capteur_ZH[new_capteur_ZH[colname] > vmax].index\n",
    "            new_capteur_ZH.drop(indexNames,inplace=True)\n",
    "            indexNames = new_capteur_ZH[new_capteur_ZH[colname] < vmin].index\n",
    "            new_capteur_ZH.drop(indexNames,inplace=True)\n",
    "\n",
    "    return new_capteur_ZH"
   ]
  },
  {
   "cell_type": "markdown",
   "metadata": {},
   "source": [
    "## Valeurs abérantes avec la méthode score Z \n",
    "Il s'agit d'une unité mesurée en écart-type. Fondamentalement, il s'agit d'une mesure de la distance entre le score brut et la moyenne. Il est compris entre -3 et +3, où 0 = moyenne et 1 = écart-type, c'est-à-dire une distribution normale.\n",
    "\n",
    "Cette méthode suggère qu'en tout point de données il existe une relation entre l'écart-type et la moyenne. Le score Z permet de trouver la distribution des données où la moyenne est égale à 0 et l'écart-type à 1, c'est-à-dire une distribution normale. Vous devez vous demander en quoi cela peut nous aider à identifier les valeurs aberrantes ? En calculant le score Z, nous redimensionnons et centrons les données et recherchons les points de données qui sont trop éloignés de zéro. Ces points de données qui sont trop éloignés de zéro seront traités comme des valeurs aberrantes. Dans la plupart des cas, un seuil de 3 ou -3 est utilisé, c'est-à-dire que si la valeur du score Z est supérieure ou inférieure à 3 ou -3 respectivement, ce point de données sera identifié comme aberrant.\n",
    "\n",
    "Formule pour le score Z = (Observation - Moyenne)/Écart-type\n",
    "\n",
    "z = (X - μ) / σ\n",
    "\n",
    "Ecrire des functions afin de pouvoir appliquer cette méthodologie aux données"
   ]
  },
  {
   "cell_type": "code",
   "execution_count": 111,
   "metadata": {},
   "outputs": [],
   "source": [
    "#ces deux fonctions suppriment du tableau les données pour lesquelles la valeur du score Z n'est pas comprise entre -3 et 3\n",
    "\n",
    "def tri_score_Z_riviere_inplace(capteur_riviere):\n",
    "    stats_riviere=capteur_riviere.describe()\n",
    "    n,p_riviere=stats_riviere.shape\n",
    "    Mean_riviere=[]\n",
    "    Std_riviere=[]\n",
    "    for i in range(p_riviere-1):#jour ne nous intéresse pas\n",
    "        Mean_riviere.append(stats_riviere.iloc[1,i])#q1 sur ligne 4\n",
    "        Std_riviere.append(stats_riviere.iloc[2,i])#q3 sur ligne 6\n",
    "\n",
    "    for (indice,colname) in enumerate(capteur_riviere):\n",
    "        if indice>=2 and indice<5: #on ne traite que les colonnes 2, 3 et 4\n",
    "            capteur_riviere['score_Z_'+colname]=((1/Std_riviere[indice-2])*(capteur_riviere[colname]-Mean_riviere[indice-2]))\n",
    "            indexNames = capteur_riviere[capteur_riviere['score_Z_'+colname]>3].index\n",
    "            capteur_riviere.drop(indexNames,inplace=True)\n",
    "            indexNames = capteur_riviere[capteur_riviere['score_Z_'+colname]<-3].index\n",
    "            capteur_riviere.drop(indexNames,inplace=True)\n",
    "\n",
    "def tri_score_Z_ZH_inplace(capteur_ZH):\n",
    "    stats_ZH=capteur_ZH.describe()\n",
    "    n,p_ZH=stats_ZH.shape\n",
    "    Mean_ZH=[]\n",
    "    Std_ZH=[]\n",
    "    for i in range(1,p_ZH-1):#car premiere colonne et derniere colonne ne nous interessent pas\n",
    "        Mean_ZH.append(stats_ZH.iloc[1,i])\n",
    "        Std_ZH.append(stats_ZH.iloc[2,i]) \n",
    "\n",
    "            \n",
    "    for (indice,colname) in enumerate(capteur_ZH):\n",
    "        if indice>=2 and indice<6 :#car les deux premières colonnes de capteur_ZH ne sont pas des floats, et on ne veut pas filtrer selon les jours\n",
    "            capteur_ZH['score_Z_'+colname]=(1/Std_ZH[indice-2])*(capteur_ZH[colname]-Mean_ZH[indice-2])\n",
    "            indexNames = capteur_ZH[capteur_ZH['score_Z_'+colname]>3].index\n",
    "            capteur_ZH.drop(indexNames,inplace=True)\n",
    "            indexNames = capteur_ZH[capteur_ZH['score_Z_'+colname]<-3].index\n",
    "            capteur_ZH.drop(indexNames,inplace=True)\n",
    "            \n",
    "\n",
    "def tri_score_Z_riviere(capteur_riviere):\n",
    "    new_capteur_riviere=deepcopy(capteur_riviere)\n",
    "    stats_riviere=new_capteur_riviere.describe()\n",
    "    n,p_riviere=stats_riviere.shape\n",
    "    Mean_riviere=[]\n",
    "    Std_riviere=[]\n",
    "    for i in range(p_riviere-1):#jour ne nous intéresse pas\n",
    "        Mean_riviere.append(stats_riviere.iloc[1,i])#q1 sur ligne 4\n",
    "        Std_riviere.append(stats_riviere.iloc[2,i])#q3 sur ligne 6\n",
    "\n",
    "    for (indice,colname) in enumerate(new_capteur_riviere):\n",
    "        if indice>=2 and indice<5: #on ne traite que les colonnes 2, 3 et 4\n",
    "            new_capteur_riviere['score_Z_'+colname]=((1/Std_riviere[indice-2])*(new_capteur_riviere[colname]-Mean_riviere[indice-2]))\n",
    "            indexNames = new_capteur_riviere[new_capteur_riviere['score_Z_'+colname]>3].index\n",
    "            new_capteur_riviere.drop(indexNames,inplace=True)\n",
    "            indexNames = new_capteur_riviere[new_capteur_riviere['score_Z_'+colname]<-3].index\n",
    "            new_capteur_riviere.drop(indexNames,inplace=True)\n",
    "            \n",
    "    return new_capteur_riviere\n",
    "\n",
    "def tri_score_Z_ZH(capteur_ZH):\n",
    "    new_capteur_ZH=deepcopy(capteur_ZH)\n",
    "    stats_ZH=new_capteur_ZH.describe()\n",
    "    n,p_ZH=stats_ZH.shape\n",
    "    Mean_ZH=[]\n",
    "    Std_ZH=[]\n",
    "    for i in range(1,p_ZH-1):#car premiere colonne et derniere colonne ne nous interessent pas\n",
    "        Mean_ZH.append(stats_ZH.iloc[1,i])\n",
    "        Std_ZH.append(stats_ZH.iloc[2,i]) \n",
    "\n",
    "            \n",
    "    for (indice,colname) in enumerate(new_capteur_ZH):\n",
    "        if indice>=2 and indice<6 :#car les deux premières colonnes de capteur_ZH ne sont pas des floats, et on ne veut pas filtrer selon les jours\n",
    "            new_capteur_ZH['score_Z_'+colname]=(1/Std_ZH[indice-2])*(new_capteur_ZH[colname]-Mean_ZH[indice-2])\n",
    "            indexNames = new_capteur_ZH[new_capteur_ZH['score_Z_'+colname]>3].index\n",
    "            new_capteur_ZH.drop(indexNames,inplace=True)\n",
    "            indexNames = new_capteur_ZH[new_capteur_ZH['score_Z_'+colname]<-3].index\n",
    "            new_capteur_ZH.drop(indexNames,inplace=True)\n",
    "            \n",
    "    return new_capteur_ZH\n"
   ]
  },
  {
   "cell_type": "markdown",
   "metadata": {},
   "source": [
    "## Comparer les deux méthodologies, donner leurs avantages et leurs limitations\n",
    "Vous pouvez proposer des alternatives."
   ]
  },
  {
   "cell_type": "code",
   "execution_count": 112,
   "metadata": {
    "scrolled": false
   },
   "outputs": [
    {
     "data": {
      "image/png": "[encoded data removed]",
      "text/plain": [
       "<Figure size 2160x432 with 14 Axes>"
      ]
     },
     "metadata": {
      "needs_background": "light"
     },
     "output_type": "display_data"
    }
   ],
   "source": [
    "affiche_tout(capteur_riviere,capteur_ZH)"
   ]
  },
  {
   "cell_type": "code",
   "execution_count": 113,
   "metadata": {},
   "outputs": [],
   "source": [
    "capteur_riviere_IQR=tri_IQR_riviere(capteur_riviere)\n",
    "capteur_ZH_IQR=tri_IQR_ZH(capteur_ZH)\n",
    "capteur_riviere_Z=tri_score_Z_riviere(capteur_riviere)\n",
    "capteur_ZH_Z=tri_score_Z_ZH(capteur_ZH)"
   ]
  },
  {
   "cell_type": "code",
   "execution_count": 114,
   "metadata": {},
   "outputs": [
    {
     "data": {
      "image/png": "[encoded data removed]",
      "text/plain": [
       "<Figure size 2160x432 with 14 Axes>"
      ]
     },
     "metadata": {
      "needs_background": "light"
     },
     "output_type": "display_data"
    }
   ],
   "source": [
    "affiche_tout(capteur_riviere_IQR,capteur_ZH_IQR)"
   ]
  },
  {
   "cell_type": "code",
   "execution_count": 115,
   "metadata": {
    "scrolled": true
   },
   "outputs": [
    {
     "data": {
      "image/png": "[encoded data removed]",
      "text/plain": [
       "<Figure size 2160x432 with 14 Axes>"
      ]
     },
     "metadata": {
      "needs_background": "light"
     },
     "output_type": "display_data"
    }
   ],
   "source": [
    "affiche_tout(capteur_riviere_Z,capteur_ZH_Z)"
   ]
  },
  {
   "cell_type": "markdown",
   "metadata": {},
   "source": [
    "Commentaire sur les résultats. Sur les valeurs de départ, on observe sur les histogrammes que la tension présente des valeurs aberrantes car un seul pic et des tous petits à côté. Ce phénomène disparaît après un tri, que ce soit le tri par score Z ou bien par écart intequartile. Dans l'ensemble les tris semblent être à peu près similaire. Cependant, on observe des différences importantes, principalement sur la tension (et la charge mais celle-ci découle d'un calcul venant de la tension). Sur le diagramme en moustache de la tension après tri par score Z on observe que celui-ci a gardé des valeurs en dehors des traits de bout, qu'on pourrait qualifier d'extrêmes. Cela est confirmé par l'histogramme de la tension après tri par score Z qui est encore très écrasé.\n",
    "Pour les variables de température, ces deux tris ont l'air à chaque fois d'obtenir des résultats similaires avec une présence de valeurs de températures plus élevées qui restent à chaque fois ; peut-être ne faut-il pas les considérer comme aberrantes mais comme témoin d'un phénomène physique, un épisode de canicule par exemple?\n",
    "Enfin, sur la température de stream (rivière), on retrouve ce même amas de valeurs élevées, peut-être donc caractéristique d'un même phénomène météorologique extrême. De nouveau, le tri par écart interquartile semble être à favoriser."
   ]
  },
  {
   "cell_type": "markdown",
   "metadata": {},
   "source": [
    "En toute sincérité, nous ne voyons pas les avantages du tri par score Z qui pourtant nous paraît bien programmé. Les données de base ont en fait presque toutes un score Z déjà compris entre -3 et 3."
   ]
  },
  {
   "cell_type": "markdown",
   "metadata": {},
   "source": [
    "## Proposer une fonction permettant d'aller des données brutes jusqu'au premier traitement des données.\n",
    "\n",
    "N'oubliez pas de permettre à l'utilisateur de pouvoir prendre des décisions et de l'aider à prendre ces décisions\n",
    "Pensez à indiquer à l'utilisateur si le jeu de données est utilisable, quels sont les capteurs défaillant, quel semble être l'orientation des échanges nappe-rivière, les données de différence de charge semblent t'elles données les mêmes informations que les données du profils de température.\n",
    "\n",
    "Votre function doit prendre en entrée, les trois fichiers et proposer au fur et à mesure de son dérouler des propositions à l'utilisateur."
   ]
  },
  {
   "cell_type": "markdown",
   "metadata": {},
   "source": [
    "Afin de déterminer une méthodologie nous allons observer ce que nous donne les résultats obtenus après tri successifs."
   ]
  },
  {
   "cell_type": "markdown",
   "metadata": {},
   "source": [
    "# Deux autres jeux de données sont disponibles sur le répertoire github.\n",
    "Votre rôle est de traiter et d'analyser ces données avec la méthodologie que vous avez développé"
   ]
  },
  {
   "cell_type": "code",
   "execution_count": null,
   "metadata": {},
   "outputs": [],
   "source": []
  },
  {
   "cell_type": "code",
   "execution_count": null,
   "metadata": {},
   "outputs": [],
   "source": []
  },
  {
   "cell_type": "code",
   "execution_count": null,
   "metadata": {},
   "outputs": [],
   "source": []
  }
 ],
 "metadata": {
  "kernelspec": {
   "display_name": "Python 3",
   "language": "python",
   "name": "python3"
  },
  "language_info": {
   "codemirror_mode": {
    "name": "ipython",
    "version": 3
   },
   "file_extension": ".py",
   "mimetype": "text/x-python",
   "name": "python",
   "nbconvert_exporter": "python",
   "pygments_lexer": "ipython3",
   "version": "3.8.3"
  }
 },
 "nbformat": 4,
 "nbformat_minor": 4
}
