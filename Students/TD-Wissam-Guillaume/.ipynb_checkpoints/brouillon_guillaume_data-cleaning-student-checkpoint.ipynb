{
 "cells": [
  {
   "cell_type": "markdown",
   "metadata": {
    "_cell_guid": "5cd5061f-ae30-4837-a53b-690ffd5c5830",
    "_uuid": "9d82bf13584b8e682962fbb96131f2447d741679"
   },
   "source": [
    "# Mettre en place notre environnement\n",
    "________\n",
    "\n",
    "La première chose que nous devons faire est de charger les bibliothèques et les ensembles de données que nous allons utiliser. Pour aujourd'hui, nous allons travailler avec deux ensembles de données : un contenant des chroniques de température dans le lit de la rivière (zone hyporhéique), et un autre contenant des les chroniques de différence de charge enregistré en **Volt**.\n",
    "\n",
    "**Important!** Assurez-vous d'exécuter cette cellule vous-même ou le reste de votre code ne fonctionnera pas"
   ]
  },
  {
   "cell_type": "code",
   "execution_count": 1,
   "metadata": {
    "_cell_guid": "135a7804-b5f5-40aa-8657-4a15774e3666",
    "_uuid": "835cbe0834b935fb0fd40c75b9c39454836f4d5f",
    "jupyter": {
     "outputs_hidden": true
    }
   },
   "outputs": [],
   "source": [
    "/# modules\n",
    "import pandas as pd\n",
    "import numpy as np\n",
    "import matplotlib.pyplot as plt\n",
    "import seaborn as sns\n",
    "import datetime\n",
    "# C:\\Users\\guill\\Dropbox\\Ingenieur_civil_Mines\\MOLONARI\\MOLONARI_1D_RESOURCES\n",
    "# read in our data\n",
    "capteur_riviere = pd.read_csv(\"C:/Users/guill/Dropbox/Ingenieur_civil_Mines\\MOLONARI/MOLONARI_1D_RESOURCES/sampling_points/Point034/point034_P_measures.csv\")\n",
    "capteur_ZH = pd.read_csv(\"C:/Users/guill/Dropbox/Ingenieur_civil_Mines/MOLONARI/MOLONARI_1D_RESOURCES/sampling_points/Point034/point034_T_measures.csv\")\n",
    "etalonage_capteur_riv = pd.read_csv(\"C:/Users/guill/Dropbox/Ingenieur_civil_Mines/MOLONARI/MOLONARI_1D_RESOURCES/configuration/pressure_sensors\\P508.csv\")\n",
    "\n",
    "# set seed for reproducibility\n",
    "np.random.seed(0)"
   ]
  },
  {
   "cell_type": "markdown",
   "metadata": {
    "_cell_guid": "604ac3a4-b1d9-4264-b312-4bbeecdeec00",
    "_uuid": "03ce3b4afe87d98f777172c2c7be066a66a0b237"
   },
   "source": [
    "Nous sommes maintenant prêts à examiner quelques dates ! (Si vous le souhaitez, vous pouvez profiter de cette occasion pour jeter un coup d'œil à certaines des données)."
   ]
  },
  {
   "cell_type": "markdown",
   "metadata": {},
   "source": [
    "# Imprimez le noms des colonnes\n",
    "renommer les colonnes du fichier capteur_riviere :  \tdates,tension_V,temperature_stream_C et celles du fichier capteur_ZH  :\n",
    "#,dates,temperature_depth_1_C,temperature_depth_2_C,temperature_depth_3_C,temperature_depth_4_C\n",
    "\n"
   ]
  },
  {
   "cell_type": "code",
   "execution_count": 2,
   "metadata": {},
   "outputs": [],
   "source": [
    "capteur_riviere =capteur_riviere.drop([0])\n",
    "capteur_riviere = capteur_riviere.drop(['Titre de tracé : point_montberneux','Unnamed: 4','Unnamed: 5', 'Unnamed: 6'],axis=1)\n",
    "capteur_riviere = capteur_riviere.rename({'Unnamed: 1':'dates','Unnamed: 2':'tension_V','Unnamed: 3':'temperature_stream_C'},axis=1)\n",
    "capteur_ZH = capteur_ZH.reset_index().drop([0]).drop(['level_6','level_7','Titre de tracé : T520'],axis=1).rename({'level_0':'#','level_1':'dates','level_2':'temperature_depth_1_C','level_3':'temperature_depth_2_C','level_4':'temperature_depth_3_C','level_5':'temperature_depth_4_C'},axis=1)"
   ]
  },
  {
   "cell_type": "code",
   "execution_count": 6,
   "metadata": {},
   "outputs": [
    {
     "data": {
      "text/html": [
       "<div>\n",
       "<style scoped>\n",
       "    .dataframe tbody tr th:only-of-type {\n",
       "        vertical-align: middle;\n",
       "    }\n",
       "\n",
       "    .dataframe tbody tr th {\n",
       "        vertical-align: top;\n",
       "    }\n",
       "\n",
       "    .dataframe thead th {\n",
       "        text-align: right;\n",
       "    }\n",
       "</style>\n",
       "<table border=\"1\" class=\"dataframe\">\n",
       "  <thead>\n",
       "    <tr style=\"text-align: right;\">\n",
       "      <th></th>\n",
       "      <th>dates</th>\n",
       "      <th>tension_V</th>\n",
       "      <th>temperature_stream_C</th>\n",
       "    </tr>\n",
       "  </thead>\n",
       "  <tbody>\n",
       "    <tr>\n",
       "      <td>1</td>\n",
       "      <td>06/27/16 12:00:00 PM</td>\n",
       "      <td>1.26787</td>\n",
       "      <td>18.342</td>\n",
       "    </tr>\n",
       "    <tr>\n",
       "      <td>2</td>\n",
       "      <td>06/27/16 12:15:00 PM</td>\n",
       "      <td>1.0663</td>\n",
       "      <td>13.898</td>\n",
       "    </tr>\n",
       "    <tr>\n",
       "      <td>3</td>\n",
       "      <td>06/27/16 12:30:00 PM</td>\n",
       "      <td>1.20661</td>\n",
       "      <td>13.915</td>\n",
       "    </tr>\n",
       "    <tr>\n",
       "      <td>4</td>\n",
       "      <td>06/27/16 12:45:00 PM</td>\n",
       "      <td>1.24533</td>\n",
       "      <td>13.939</td>\n",
       "    </tr>\n",
       "    <tr>\n",
       "      <td>5</td>\n",
       "      <td>06/27/16 01:00:00 PM</td>\n",
       "      <td>1.24437</td>\n",
       "      <td>13.967</td>\n",
       "    </tr>\n",
       "  </tbody>\n",
       "</table>\n",
       "</div>"
      ],
      "text/plain": [
       "                  dates tension_V temperature_stream_C\n",
       "1  06/27/16 12:00:00 PM   1.26787               18.342\n",
       "2  06/27/16 12:15:00 PM    1.0663               13.898\n",
       "3  06/27/16 12:30:00 PM   1.20661               13.915\n",
       "4  06/27/16 12:45:00 PM   1.24533               13.939\n",
       "5  06/27/16 01:00:00 PM   1.24437               13.967"
      ]
     },
     "execution_count": 6,
     "metadata": {},
     "output_type": "execute_result"
    }
   ],
   "source": [
    "capteur_riviere.head()"
   ]
  },
  {
   "cell_type": "code",
   "execution_count": 5,
   "metadata": {},
   "outputs": [
    {
     "data": {
      "text/html": [
       "<div>\n",
       "<style scoped>\n",
       "    .dataframe tbody tr th:only-of-type {\n",
       "        vertical-align: middle;\n",
       "    }\n",
       "\n",
       "    .dataframe tbody tr th {\n",
       "        vertical-align: top;\n",
       "    }\n",
       "\n",
       "    .dataframe thead th {\n",
       "        text-align: right;\n",
       "    }\n",
       "</style>\n",
       "<table border=\"1\" class=\"dataframe\">\n",
       "  <thead>\n",
       "    <tr style=\"text-align: right;\">\n",
       "      <th></th>\n",
       "      <th>#</th>\n",
       "      <th>dates</th>\n",
       "      <th>temperature_depth_1_C</th>\n",
       "      <th>temperature_depth_2_C</th>\n",
       "      <th>temperature_depth_3_C</th>\n",
       "      <th>temperature_depth_4_C</th>\n",
       "    </tr>\n",
       "  </thead>\n",
       "  <tbody>\n",
       "    <tr>\n",
       "      <td>1</td>\n",
       "      <td>1</td>\n",
       "      <td>06/27/16 12:00:00 PM</td>\n",
       "      <td>13.810</td>\n",
       "      <td>13.834</td>\n",
       "      <td>13.858</td>\n",
       "      <td>13.810</td>\n",
       "    </tr>\n",
       "    <tr>\n",
       "      <td>2</td>\n",
       "      <td>2</td>\n",
       "      <td>06/27/16 12:15:00 PM</td>\n",
       "      <td>13.834</td>\n",
       "      <td>13.858</td>\n",
       "      <td>13.882</td>\n",
       "      <td>13.834</td>\n",
       "    </tr>\n",
       "    <tr>\n",
       "      <td>3</td>\n",
       "      <td>3</td>\n",
       "      <td>06/27/16 12:30:00 PM</td>\n",
       "      <td>13.930</td>\n",
       "      <td>13.954</td>\n",
       "      <td>14.050</td>\n",
       "      <td>14.002</td>\n",
       "    </tr>\n",
       "    <tr>\n",
       "      <td>4</td>\n",
       "      <td>4</td>\n",
       "      <td>06/27/16 12:45:00 PM</td>\n",
       "      <td>13.882</td>\n",
       "      <td>13.954</td>\n",
       "      <td>14.026</td>\n",
       "      <td>13.954</td>\n",
       "    </tr>\n",
       "    <tr>\n",
       "      <td>5</td>\n",
       "      <td>5</td>\n",
       "      <td>06/27/16 01:00:00 PM</td>\n",
       "      <td>13.858</td>\n",
       "      <td>13.930</td>\n",
       "      <td>14.026</td>\n",
       "      <td>13.954</td>\n",
       "    </tr>\n",
       "  </tbody>\n",
       "</table>\n",
       "</div>"
      ],
      "text/plain": [
       "   #                 dates temperature_depth_1_C temperature_depth_2_C  \\\n",
       "1  1  06/27/16 12:00:00 PM                13.810                13.834   \n",
       "2  2  06/27/16 12:15:00 PM                13.834                13.858   \n",
       "3  3  06/27/16 12:30:00 PM                13.930                13.954   \n",
       "4  4  06/27/16 12:45:00 PM                13.882                13.954   \n",
       "5  5  06/27/16 01:00:00 PM                13.858                13.930   \n",
       "\n",
       "  temperature_depth_3_C temperature_depth_4_C  \n",
       "1                13.858                13.810  \n",
       "2                13.882                13.834  \n",
       "3                14.050                14.002  \n",
       "4                14.026                13.954  \n",
       "5                14.026                13.954  "
      ]
     },
     "execution_count": 5,
     "metadata": {},
     "output_type": "execute_result"
    }
   ],
   "source": [
    "capteur_ZH.head()"
   ]
  },
  {
   "cell_type": "markdown",
   "metadata": {},
   "source": [
    "# Transformez les données de différence de charge en mètres\n",
    "\n"
   ]
  },
  {
   "cell_type": "code",
   "execution_count": 9,
   "metadata": {},
   "outputs": [],
   "source": [
    "alpha = -1.462495\n",
    "beta = 0.001474"
   ]
  },
  {
   "cell_type": "code",
   "execution_count": 14,
   "metadata": {},
   "outputs": [
    {
     "ename": "SyntaxError",
     "evalue": "invalid syntax (<ipython-input-14-6ab176c37ba4>, line 3)",
     "output_type": "error",
     "traceback": [
      "\u001b[1;36m  File \u001b[1;32m\"<ipython-input-14-6ab176c37ba4>\"\u001b[1;36m, line \u001b[1;32m3\u001b[0m\n\u001b[1;33m    capteur_riviere[[\"charge_diff\"],axis=1] = capteur_riviere[[\"charge_diff\"],axis=1]/alpha\u001b[0m\n\u001b[1;37m                                        ^\u001b[0m\n\u001b[1;31mSyntaxError\u001b[0m\u001b[1;31m:\u001b[0m invalid syntax\n"
     ]
    }
   ],
   "source": [
    "capteur_riviere = capteur_riviere.rename({'tension_V':'charge_diff'},axis=1)\n",
    "capteur_riviere.head()\n",
    "#capteur_riviere[[\"charge_diff\"],axis=1] = capteur_riviere[[\"charge_diff\"],axis=1]/alpha"
   ]
  },
  {
   "cell_type": "markdown",
   "metadata": {
    "_cell_guid": "9b87a77d-e5e5-4581-9cd3-0e7339fe1516",
    "_uuid": "742028572a307a42ce40db0102171bc219b05282"
   },
   "source": [
    "# Traitement des dates\n",
    "## Vérifiez le type de données de notre colonne de date\n",
    "___\n",
    "\n",
    "Imprimer les dates des deux fichiers"
   ]
  },
  {
   "cell_type": "code",
   "execution_count": null,
   "metadata": {
    "_cell_guid": "e6b7eb39-c3e3-40a1-b0a5-91cfcd2d42da",
    "_uuid": "93a08de7a6a621e4b07968c07c1cc612936c6027",
    "jupyter": {
     "outputs_hidden": true
    }
   },
   "outputs": [],
   "source": []
  },
  {
   "cell_type": "markdown",
   "metadata": {
    "_cell_guid": "dbdacb7c-10d4-4b0a-8f6b-6d4a940ca446",
    "_uuid": "d88dbc08ab145fd20f86073b027c53f40fd306bc"
   },
   "source": [
    "Remarquez qu'en bas de la sortie de `head()`, vous pouvez voir qu'il est dit que le type de données de cette colonne est \"object\". \n",
    "\n",
    "> Pandas utilise le dtype \"object\" pour stocker différents types de données, mais le plus souvent, lorsque vous voyez une colonne avec le dtype \"object\", elle contient des chaînes de caractères. \n",
    "\n",
    "Si vous consultez la documentation sur le dtype de Pandas [ici] (http://pandas.pydata.org/pandas-docs/stable/basics.html#dtypes), vous remarquerez qu'il existe également un dtype spécifique `datetime64`. Comme le dtype de notre colonne est `object` plutôt que `datetime64`, nous pouvons dire que Python ne sait pas que cette colonne contient des dates.\n",
    "\n",
    "Nous pouvons aussi regarder uniquement le dtype de votre colonne sans imprimer les premières lignes si nous le souhaitons :"
   ]
  },
  {
   "cell_type": "code",
   "execution_count": 1,
   "metadata": {
    "_cell_guid": "56a047f4-cbf7-4914-951c-a04310ee7432",
    "_uuid": "e2ab2ac80aaac7b165b3af64edb75d29f2612482",
    "jupyter": {
     "outputs_hidden": true
    }
   },
   "outputs": [],
   "source": [
    "# check the data type of our date column\n"
   ]
  },
  {
   "cell_type": "code",
   "execution_count": null,
   "metadata": {},
   "outputs": [],
   "source": []
  },
  {
   "cell_type": "markdown",
   "metadata": {
    "_cell_guid": "99a207db-3db0-4343-9805-58753f51f6e8",
    "_uuid": "06e6483764014a04e7a1f34525e2f12aee5fdab8"
   },
   "source": [
    "You may have to check the [numpy documentation](https://docs.scipy.org/doc/numpy-1.12.0/reference/generated/numpy.dtype.kind.html#numpy.dtype.kind) to match the letter code to the dtype of the object. \"O\" is the code for \"object\", so we can see that these two methods give us the same information."
   ]
  },
  {
   "cell_type": "markdown",
   "metadata": {
    "_cell_guid": "fb3b552b-411b-4fc0-b1e6-a3a8156fd459",
    "_uuid": "0939ce269aef7001e35cc8f2a5f1eed1f6160940"
   },
   "source": [
    "## Convertir nos colonnes de date en datetime\n",
    "___\n",
    "\n",
    "Maintenant que nous savons que notre colonne de date n'est pas reconnue comme une date, il est temps de la convertir pour qu'elle soit reconnue comme une date. Cette opération est appelée \"analyse syntaxique des dates\" car nous prenons une chaîne de caractères et identifions ses composants. Nous allons utiliser la fonction pd.to_datetime.\n",
    "\n",
    "Nous pouvons indiquer à pandas le format de nos dates à l'aide d'un guide appelé [\"strftime directive\", sur lequel vous trouverez plus d'informations à ce lien] (http://strftime.org/). L'idée de base est que vous devez indiquer quelles parties de la date se trouvent où et quelle ponctuation se trouve entre elles. Il existe [de nombreuses parties possibles d'une date](http://strftime.org/), mais les plus courantes sont `%d` pour le jour, `%m` pour le mois, `%y` pour une année à deux chiffres et `%Y` pour une année à quatre chiffres.\n",
    "\n",
    "Quelques exemples :\n",
    "\n",
    " * Le 17 janvier 2007 a le format \"%m/%d/%y\".\n",
    " * 17-1-2007 a le format \"%d-%m-%Y\".\n",
    " "
   ]
  },
  {
   "cell_type": "code",
   "execution_count": null,
   "metadata": {
    "_cell_guid": "f955aa17-ede7-4457-a913-ba1c44f8846d",
    "_uuid": "a471aae50241b245caa0c60fbb19821372682b76",
    "jupyter": {
     "outputs_hidden": true
    }
   },
   "outputs": [],
   "source": []
  },
  {
   "cell_type": "markdown",
   "metadata": {
    "_cell_guid": "7bd8f8b6-8a60-4a12-b94b-4100188845da",
    "_uuid": "fc95b22f0f4d7a6bc0cb1a7cc55abfb204cc81f9"
   },
   "source": [
    "Maintenant que nos dates sont analysées correctement, nous pouvons travailler avec celles-ci.\n",
    "\n",
    "___\n",
    "* Bien que nous spécifions le format de la date ici, il arrive parfois que vous rencontriez une erreur lorsque plusieurs formats de date sont présents dans une même colonne. Dans ce cas, vous pouvez demander à pandas de déduire le bon format de date. Vous pouvez le faire comme suit :\n",
    "\n",
    "`capteur_riviere['date'] = pd.to_datetime(capteur_riviere['date'], infer_datetime_format=True)``\n",
    "\n",
    "**Pourquoi ne pas toujours utiliser `infer_datetime_format = True?`** Il y a deux grandes raisons de ne pas toujours faire deviner à pandas le format de l'heure. La première est que pandas n'est toujours capable de trouver le bon format de date, surtout si quelqu'un a fait preuve de créativité dans la saisie des données. La seconde est que c'est beaucoup plus lent que de spécifier le format exact des dates.\n",
    "____"
   ]
  },
  {
   "cell_type": "markdown",
   "metadata": {
    "_cell_guid": "fe33df7d-c85d-4b61-b572-5682e6eea81b",
    "_uuid": "a2cec7b480ef13c070d40ca0e0763d2d30a86a9c"
   },
   "source": [
    "## Tracer le jour du mois pour vérifier l'analyse de la date\n",
    "___\n",
    "\n",
    "L'un des plus grands dangers de l'analyse des dates est de mélanger les mois et les jours. La fonction to_datetime() a des messages d'erreur très utiles, mais il n'est pas inutile de vérifier que les jours du mois que nous avons extraits ont un sens. \n",
    "\n",
    "Pour ce faire, nous allons tracer un histogramme des jours du mois. Nous nous attendons à ce qu'il ait des valeurs entre 1 et 31 et, puisqu'il n'y a aucune raison de supposer que les glissements de terrain sont plus fréquents certains jours du mois que d'autres, une distribution relativement égale. (Avec un creux sur 31 car tous les mois n'ont pas 31 jours.) "
   ]
  },
  {
   "cell_type": "code",
   "execution_count": null,
   "metadata": {
    "_cell_guid": "49feb18f-c077-474e-9353-a24ae850acf6",
    "_uuid": "d3d5a143d3d49e10187e420abfe9cfe18c7bac56",
    "collapsed": true,
    "jupyter": {
     "outputs_hidden": true
    }
   },
   "outputs": [],
   "source": []
  },
  {
   "cell_type": "markdown",
   "metadata": {},
   "source": [
    "# Valeurs aberrantes\n",
    "\n",
    "L'un des plus grands défis du nettoyage des données est l'identification et le traitement des valeurs aberrantes. En termes simples, les valeurs aberrantes sont des observations qui sont significativement différentes des autres points de données. Même les meilleurs algorithmes d'estimation des paramètres automatique seront moins performants si les observations aberrantes ne sont pas nettoyées des données, car elles impliquent des simulations obsolètes des variables.\n",
    "\n"
   ]
  },
  {
   "cell_type": "code",
   "execution_count": 2,
   "metadata": {},
   "outputs": [
    {
     "ename": "NameError",
     "evalue": "name 'df' is not defined",
     "output_type": "error",
     "traceback": [
      "\u001b[0;31m---------------------------------------------------------------------------\u001b[0m",
      "\u001b[0;31mNameError\u001b[0m                                 Traceback (most recent call last)",
      "\u001b[0;32m<ipython-input-2-d3684afb9d7a>\u001b[0m in \u001b[0;36m<module>\u001b[0;34m\u001b[0m\n\u001b[0;32m----> 1\u001b[0;31m \u001b[0mprint\u001b[0m\u001b[0;34m(\u001b[0m\u001b[0mdf\u001b[0m\u001b[0;34m.\u001b[0m\u001b[0minfo\u001b[0m\u001b[0;34m(\u001b[0m\u001b[0;34m)\u001b[0m\u001b[0;34m)\u001b[0m\u001b[0;34m\u001b[0m\u001b[0;34m\u001b[0m\u001b[0m\n\u001b[0m",
      "\u001b[0;31mNameError\u001b[0m: name 'df' is not defined"
     ]
    }
   ],
   "source": [
    "print(df.info())"
   ]
  },
  {
   "cell_type": "markdown",
   "metadata": {},
   "source": []
  },
  {
   "cell_type": "markdown",
   "metadata": {},
   "source": [
    "## Identification des valeurs aberrantes\n",
    "\n",
    "La présence de valeurs aberrantes dans les données peut avoir de nombreuses raisons. Parfois, les valeurs aberrantes peuvent être authentiques, alors que dans d'autres cas, elles peuvent être dues à des erreurs de saisie de données. Il est important de comprendre les raisons des valeurs aberrantes avant de les nettoyer.\n",
    "\n",
    "Nous allons commencer le processus de recherche des valeurs aberrantes en exécutant les statistiques sommaires sur les variables. Pour ce faire, nous utilisons la fonction describe() ci-dessous, qui fournit un résumé statistique de toutes les variables quantitatives.\n",
    "\n",
    "\n"
   ]
  },
  {
   "cell_type": "markdown",
   "metadata": {},
   "source": [
    "## Tracez les graphiques de distribution pour les différentes variables"
   ]
  },
  {
   "cell_type": "code",
   "execution_count": null,
   "metadata": {},
   "outputs": [],
   "source": []
  },
  {
   "cell_type": "markdown",
   "metadata": {},
   "source": [
    "## Trouver les valeurs limites"
   ]
  },
  {
   "cell_type": "code",
   "execution_count": null,
   "metadata": {},
   "outputs": [],
   "source": []
  }
 ],
 "metadata": {
  "kernelspec": {
   "display_name": "Python 3",
   "language": "python",
   "name": "python3"
  },
  "language_info": {
   "codemirror_mode": {
    "name": "ipython",
    "version": 3
   },
   "file_extension": ".py",
   "mimetype": "text/x-python",
   "name": "python",
   "nbconvert_exporter": "python",
   "pygments_lexer": "ipython3",
   "version": "3.7.4"
  }
 },
 "nbformat": 4,
 "nbformat_minor": 4
}
